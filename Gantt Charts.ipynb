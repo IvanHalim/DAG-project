{
 "cells": [
  {
   "cell_type": "markdown",
   "metadata": {},
   "source": [
    "# Gantt Charts in Python\n",
    "\n",
    "Gantt Charts use horizontal bars to represent the start and end times of tasks.\n",
    "\n",
    "## Simple Gantt Chart"
   ]
  },
  {
   "cell_type": "code",
   "execution_count": 1,
   "metadata": {},
   "outputs": [
    {
     "data": {
      "application/vnd.jupyter.widget-view+json": {
       "model_id": "6060fce8666f4ab2beb15c270bd24846",
       "version_major": 2,
       "version_minor": 0
      },
      "text/plain": [
       "FigureWidget({\n",
       "    'data': [{'marker': {'color': 'white'},\n",
       "              'name': '',\n",
       "              'type': 'sc…"
      ]
     },
     "metadata": {},
     "output_type": "display_data"
    }
   ],
   "source": [
    "import plotly.graph_objs as go\n",
    "import plotly.figure_factory as ff\n",
    "\n",
    "df = [dict(Task='Job A', Start='2009-01-01', Finish='2009-02-28'),\n",
    "      dict(Task='Job B', Start='2009-03-05', Finish='2009-04-15'),\n",
    "      dict(Task='Job C', Start='2009-02-20', Finish='2009-05-30')]\n",
    "\n",
    "fig = ff.create_gantt(df)\n",
    "go.FigureWidget(fig)"
   ]
  },
  {
   "cell_type": "markdown",
   "metadata": {},
   "source": [
    "## Index by Numeric Variable"
   ]
  },
  {
   "cell_type": "code",
   "execution_count": 2,
   "metadata": {},
   "outputs": [
    {
     "data": {
      "application/vnd.jupyter.widget-view+json": {
       "model_id": "c8ee96efba194416b3d76dd4d2e95d12",
       "version_major": 2,
       "version_minor": 0
      },
      "text/plain": [
       "FigureWidget({\n",
       "    'data': [{'marker': {'color': 'white'},\n",
       "              'name': '',\n",
       "              'type': 'sc…"
      ]
     },
     "metadata": {},
     "output_type": "display_data"
    }
   ],
   "source": [
    "import plotly.graph_objs as go\n",
    "import plotly.figure_factory as ff\n",
    "\n",
    "df = [dict(Task='Job A', Start='2009-01-01', Finish='2009-02-28', Complete=10),\n",
    "      dict(Task='Job B', Start='2009-03-05', Finish='2009-04-15', Complete=60),\n",
    "      dict(Task='Job C', Start='2009-02-20', Finish='2009-05-30', Complete=95)]\n",
    "\n",
    "fig = ff.create_gantt(df, index_col='Complete', show_colorbar=True)\n",
    "go.FigureWidget(fig)"
   ]
  },
  {
   "cell_type": "markdown",
   "metadata": {},
   "source": [
    "## Index by String Variable"
   ]
  },
  {
   "cell_type": "code",
   "execution_count": 3,
   "metadata": {},
   "outputs": [
    {
     "data": {
      "application/vnd.jupyter.widget-view+json": {
       "model_id": "bb9152cc7de040c8b6e0a92149606da4",
       "version_major": 2,
       "version_minor": 0
      },
      "text/plain": [
       "FigureWidget({\n",
       "    'data': [{'marker': {'color': 'white'},\n",
       "              'name': '',\n",
       "              'type': 'sc…"
      ]
     },
     "metadata": {},
     "output_type": "display_data"
    }
   ],
   "source": [
    "import plotly.graph_objs as go\n",
    "import plotly.figure_factory as ff\n",
    "\n",
    "df = [dict(Task='Job A', Start='2009-01-01', Finish='2009-02-28', Resource='Apple'),\n",
    "      dict(Task='Job B', Start='2009-03-05', Finish='2009-04-15', Resource='Grape'),\n",
    "      dict(Task='Job C', Start='2009-02-20', Finish='2009-05-30', Resource='Banana')]\n",
    "\n",
    "fig = ff.create_gantt(df, index_col='Resource', show_colorbar=True)\n",
    "go.FigureWidget(fig)"
   ]
  },
  {
   "cell_type": "markdown",
   "metadata": {},
   "source": [
    "## Use a Dictionary for Colors"
   ]
  },
  {
   "cell_type": "code",
   "execution_count": 4,
   "metadata": {},
   "outputs": [
    {
     "data": {
      "application/vnd.jupyter.widget-view+json": {
       "model_id": "4f4dbdc2b7cc45809f796b14e99fb235",
       "version_major": 2,
       "version_minor": 0
      },
      "text/plain": [
       "FigureWidget({\n",
       "    'data': [{'marker': {'color': 'white'},\n",
       "              'name': '',\n",
       "              'showlegend…"
      ]
     },
     "metadata": {},
     "output_type": "display_data"
    }
   ],
   "source": [
    "import plotly.graph_objs as go\n",
    "import plotly.figure_factory as ff\n",
    "\n",
    "df = [dict(Task='Job A', Start='2009-01-01', Finish='2009-02-28', Resource='Apple'),\n",
    "      dict(Task='Job B', Start='2009-03-05', Finish='2009-04-15', Resource='Grape'),\n",
    "      dict(Task='Job C', Start='2009-02-20', Finish='2009-05-30', Resource='Banana')]\n",
    "\n",
    "colors = dict(Apple = 'rgb(220, 0, 0)',\n",
    "              Grape = 'rgb(170, 14, 200)',\n",
    "              Banana = (1, 0.9, 0.16))\n",
    "\n",
    "fig = ff.create_gantt(df, colors=colors, index_col='Resource', show_colorbar=True)\n",
    "go.FigureWidget(fig)"
   ]
  },
  {
   "cell_type": "markdown",
   "metadata": {},
   "source": [
    "## Use a Pandas Dataframe"
   ]
  },
  {
   "cell_type": "code",
   "execution_count": 5,
   "metadata": {},
   "outputs": [
    {
     "data": {
      "application/vnd.jupyter.widget-view+json": {
       "model_id": "93c2ad57ca8b49bfb2f5e1d30ce9d3e6",
       "version_major": 2,
       "version_minor": 0
      },
      "text/plain": [
       "FigureWidget({\n",
       "    'data': [{'marker': {'color': 'white'},\n",
       "              'name': '',\n",
       "              'type': 'sc…"
      ]
     },
     "metadata": {},
     "output_type": "display_data"
    }
   ],
   "source": [
    "import plotly.graph_objs as go\n",
    "import plotly.figure_factory as ff\n",
    "import pandas as pd\n",
    "\n",
    "df = pd.read_csv('data/gantt_example.csv')\n",
    "\n",
    "colors = ['#333F44', '#93e4c1']\n",
    "\n",
    "fig = ff.create_gantt(\n",
    "        df,\n",
    "        colors=colors,\n",
    "        index_col='Complete',\n",
    "        show_colorbar=True,\n",
    "        showgrid_x=True,\n",
    "        showgrid_y=True\n",
    "      )\n",
    "\n",
    "go.FigureWidget(fig)"
   ]
  },
  {
   "cell_type": "markdown",
   "metadata": {},
   "source": [
    "## Using Hours and Minutes in Times"
   ]
  },
  {
   "cell_type": "code",
   "execution_count": 6,
   "metadata": {},
   "outputs": [
    {
     "data": {
      "application/vnd.jupyter.widget-view+json": {
       "model_id": "49ca23b168c344c8a82a0d9b9003ba7e",
       "version_major": 2,
       "version_minor": 0
      },
      "text/plain": [
       "FigureWidget({\n",
       "    'data': [{'marker': {'color': 'white'},\n",
       "              'name': '',\n",
       "              'showlegend…"
      ]
     },
     "metadata": {},
     "output_type": "display_data"
    }
   ],
   "source": [
    "import plotly.graph_objs as go\n",
    "import plotly.figure_factory as ff\n",
    "\n",
    "df = [\n",
    "    dict(Task='Morning Sleep', Start='2016-01-01', Finish='2016-01-01 6:00:00', Resource='Sleep'),\n",
    "    dict(Task='Breakfast', Start='2016-01-01 7:00:00', Finish='2016-01-01 7:30:00', Resource='Food'),\n",
    "    dict(Task='Work', Start='2016-01-01 9:00:00', Finish='2016-01-01 11:25:00', Resource='Brain'),\n",
    "    dict(Task='Break', Start='2016-01-01 11:30:00', Finish='2016-01-01 12:00:00', Resource='Rest'),\n",
    "    dict(Task='Lunch', Start='2016-01-01 12:00:00', Finish='2016-01-01 13:00:00', Resource='Food'),\n",
    "    dict(Task='Work', Start='2016-01-01 13:00:00', Finish='2016-01-01 17:00:00', Resource='Brain'),\n",
    "    dict(Task='Exercise', Start='2016-01-01 17:30:00', Finish='2016-01-01 18:30:00', Resource='Cardio'), \n",
    "    dict(Task='Post Workout Rest', Start='2016-01-01 18:30:00', Finish='2016-01-01 19:00:00', Resource='Rest'),\n",
    "    dict(Task='Dinner', Start='2016-01-01 19:00:00', Finish='2016-01-01 20:00:00', Resource='Food'),\n",
    "    dict(Task='Evening Sleep', Start='2016-01-01 21:00:00', Finish='2016-01-01 23:59:00', Resource='Sleep')\n",
    "]\n",
    "\n",
    "colors = dict(Cardio = 'rgb(46, 137, 205)',\n",
    "              Food = 'rgb(114, 44, 121)',\n",
    "              Sleep = 'rgb(198, 47, 105)',\n",
    "              Brain = 'rgb(58, 149, 136)',\n",
    "              Rest = 'rgb(107, 127, 135)')\n",
    "\n",
    "fig = ff.create_gantt(df, colors=colors, index_col='Resource', title='Daily Schedule',\n",
    "                      show_colorbar=True, bar_width=0.8, showgrid_x=True, showgrid_y=True)\n",
    "\n",
    "go.FigureWidget(fig)"
   ]
  },
  {
   "cell_type": "code",
   "execution_count": 7,
   "metadata": {},
   "outputs": [
    {
     "data": {
      "application/vnd.jupyter.widget-view+json": {
       "model_id": "9b0eaa96c923408399b9a07324a23f3c",
       "version_major": 2,
       "version_minor": 0
      },
      "text/plain": [
       "FigureWidget({\n",
       "    'data': [{'marker': {'color': 'white'},\n",
       "              'name': '',\n",
       "              'showlegend…"
      ]
     },
     "metadata": {},
     "output_type": "display_data"
    }
   ],
   "source": [
    "import plotly.graph_objs as go\n",
    "import plotly.figure_factory as ff\n",
    "\n",
    "df = [dict(Task=\"Job-1\", Start='2017-01-01', Finish='2017-02-02', Resource='Complete'),\n",
    "      dict(Task=\"Job-1\", Start='2017-02-15', Finish='2017-03-15', Resource='Incomplete'),\n",
    "      dict(Task=\"Job-2\", Start='2017-01-17', Finish='2017-02-17', Resource='Not Started'),\n",
    "      dict(Task=\"Job-2\", Start='2017-01-17', Finish='2017-02-17', Resource='Complete'),\n",
    "      dict(Task=\"Job-3\", Start='2017-03-10', Finish='2017-03-20', Resource='Not Started'),\n",
    "      dict(Task=\"Job-3\", Start='2017-04-01', Finish='2017-04-20', Resource='Not Started'),\n",
    "      dict(Task=\"Job-3\", Start='2017-05-18', Finish='2017-06-18', Resource='Not Started'),\n",
    "      dict(Task=\"Job-4\", Start='2017-01-14', Finish='2017-03-14', Resource='Complete')]\n",
    "\n",
    "colors = {'Not Started': 'rgb(220, 0, 0)',\n",
    "          'Incomplete': (1, 0.9, 0.16),\n",
    "          'Complete': 'rgb(0, 255, 100)'}\n",
    "\n",
    "fig = ff.create_gantt(df, colors=colors, index_col='Resource', show_colorbar=True, group_tasks=True)\n",
    "go.FigureWidget(fig)"
   ]
  }
 ],
 "metadata": {
  "@webio": {
   "lastCommId": null,
   "lastKernelId": null
  },
  "kernelspec": {
   "display_name": "Python 3",
   "language": "python",
   "name": "python3"
  },
  "language_info": {
   "codemirror_mode": {
    "name": "ipython",
    "version": 3
   },
   "file_extension": ".py",
   "mimetype": "text/x-python",
   "name": "python",
   "nbconvert_exporter": "python",
   "pygments_lexer": "ipython3",
   "version": "3.6.8"
  }
 },
 "nbformat": 4,
 "nbformat_minor": 2
}
