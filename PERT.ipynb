{
 "cells": [
  {
   "cell_type": "markdown",
   "metadata": {},
   "source": [
    "# Program Evaluation and Review Technique\n",
    "\n",
    "The __Program Evaluation and Review Technique (PERT)__ is a statistical tool used in project management, which was designed to analyze and represent the task involved in a given project.\n",
    "\n",
    "\"PERT\" was developed primarily to simplify the planning and scheduling of large and complex projects. It was developed for the U.S. Navy Special Projects Office in 1957 to support the U.S. Navy's Polaris nuclear submarine project.\n",
    "\n",
    "## Overview\n",
    "\n",
    "PERT is a method of analyzing the tasks involved in completing a given project, especially the time needed to complete each task, and to identify the minimum time needed to complete the total project. It incorporates uncertainty by making it possible to schedule a project while not knowing precisely the details and durations of all the activities. It is more of an event-oriented technique rather than start-and-completion-oriented, and is used more in these projects where time is the major factor rather than cost. It is applied on very large-scale, one-time, complex, non-routine infrastructure and on Research and Development projects.\n",
    "\n",
    "### Dependency Network\n",
    "\n",
    "A project can be modeled as a __Directed Acyclic Graph__ where nodes represent tasks and edges represent the relationships between the tasks. Suppose there are 2 tasks, Task A and Task B, and Task A has to be completed first before you can start Task B. We can model this as a graph with 2 nodes, node A and B, and an edge from A to B.\n",
    "\n",
    "<img src='files/img/AB.png'>\n",
    "\n",
    "An arrow from A to B means that node A has to be completed first before node B. Given this constraint, we can see how having cycles in our graph can be problematic.\n",
    "\n",
    "<img src='files/img/ABC.png'>\n",
    "\n",
    "Task B has to be completed before Task C, and Task A has to be completed before Task B, but Task C has to be completed before Task A. Thus, this is not a feasible graph because we can never find a task that we should complete first. This is the reason why we use a directed acyclic graph.\n",
    "\n",
    "### Time Estimates\n",
    "\n",
    "PERT attempts to address timescale uncertainty in projects by using three different probabilistic time estimates for each project component:\n",
    "\n",
    "-  _Optimistic Time_: The minimum possible time required to accomplish an activity ($o$) or a path ($O$), assuming everything proceeds better than is normally expected.\n",
    "-  _Pessimistic Time_: The maximum possible time required to accomplish an activity ($p$) or a path ($P$), assuming everything goes wrong (but excluding major catastrophe).\n",
    "-  _Most Likely Time_: The best estimate of the time required to accomplish an activity ($m$) or a path ($M$), assuming everything proceeds as normal.\n",
    "\n",
    "These three probabilistic time estimates are then combined into an __Expected Time__ which is the best estimate of the time required to accomplish an activity ($te$) or a path ($TE$), accounting for the fact that things don't always proceed as normal. It is the average time the task would require if the task were repeated on a number of occasions over an extended period of time.\n",
    "\n",
    "The Expected Time of an activity (te) is calculated using the formula,\n",
    "\n",
    "$$te = \\frac{o + 4m + p}{6}$$\n",
    "\n",
    "where, $o$ is the Optimistic Time of an activity, $m$ is the Most Likely Time of an activity and $p$ is the Pessimistic Time of an activity.\n",
    "\n",
    "The Expected Time of a path ($TE$) is simply the sum of the Expected Time of activities in the path ($te$).\n",
    "\n",
    "$$TE = \\sum_{i = 1}^n te_i$$\n",
    "\n",
    "This formula is found by using curve-fitting.\n",
    "\n",
    "<img src='files/img/OMP.png'>\n",
    "\n",
    "Note that the __Most Likely__ time represents the peak of the curve. The __Optimistic__ and __Pessimistic__ time are out along the baseline at opposite ends of the probability distribution. The __Expected__ time is the time which divides the total area under the curve in two halves, which means that it has a __50/50__ probability of being achieved. As you can see this is a __very rough estimate__.\n",
    "\n",
    "As you may imagine, if you have some historical data about the time required to accomplish an activity, then you may use __Exponentially Weighted Moving Average (EWMA)__ or some kind of __Machine Learning__ algorithm to get a better estimate of the duration. Unfortunately, for projects that have never been done before, this is not always available so a little bit of guess work is unavoidable.\n",
    "\n",
    "Another way to obtain a better time estimate is that, if you know the sequence of events that are going to happen and the transition probabilities between those events, then you can use the __Event Chain Methodology__, which is essentially just running a __Markov Chain Monte Carlo__ simulation. The problem is that for projects with hundred or thousands of activities, this can be a very complicated and time-consuming process requiring massive amounts of computing power. This method also doesn't address the problem of dependencies.\n",
    "\n",
    "Bear in mind that the coefficients for the formula __are not set in stone__. Based on expert opinion, if the Expected time feels too low or too high then the coefficients can be adjusted accordingly.\n",
    "\n",
    "## Implementation\n",
    "\n",
    "The first step to scheduling the project is to determine the tasks that the project requires and the order in which they must be completed. The order may be easy to record for some tasks (e.g.When building a house, the land must be graded before the foundation can be laid) while difficult for others (there are two areas that need to be graded, but there are only enough bulldozers to do one). Additionally, the time estimates usually reflect the normal, non-rushed time. Many times, the time required to execute the task can be reduced for an additional cost or a reduction in the quality.\n",
    "\n",
    "### Example\n",
    "\n",
    "In the following example there are seven tasks, labeled _A_ through _G_. Some tasks can be done concurrently (_A_ and _B_) while others cannot be done until their predecessor task is complete (_C_ cannot begin until _A_ is complete)."
   ]
  },
  {
   "cell_type": "code",
   "execution_count": 1,
   "metadata": {},
   "outputs": [
    {
     "data": {
      "text/html": [
       "<div>\n",
       "<style scoped>\n",
       "    .dataframe tbody tr th:only-of-type {\n",
       "        vertical-align: middle;\n",
       "    }\n",
       "\n",
       "    .dataframe tbody tr th {\n",
       "        vertical-align: top;\n",
       "    }\n",
       "\n",
       "    .dataframe thead th {\n",
       "        text-align: right;\n",
       "    }\n",
       "</style>\n",
       "<table border=\"1\" class=\"dataframe\">\n",
       "  <thead>\n",
       "    <tr style=\"text-align: right;\">\n",
       "      <th></th>\n",
       "      <th>ID</th>\n",
       "      <th>Activity</th>\n",
       "      <th>Optimistic</th>\n",
       "      <th>Normal</th>\n",
       "      <th>Pessimistic</th>\n",
       "    </tr>\n",
       "  </thead>\n",
       "  <tbody>\n",
       "    <tr>\n",
       "      <th>0</th>\n",
       "      <td>1</td>\n",
       "      <td>A</td>\n",
       "      <td>2</td>\n",
       "      <td>4</td>\n",
       "      <td>6</td>\n",
       "    </tr>\n",
       "    <tr>\n",
       "      <th>1</th>\n",
       "      <td>2</td>\n",
       "      <td>B</td>\n",
       "      <td>3</td>\n",
       "      <td>5</td>\n",
       "      <td>9</td>\n",
       "    </tr>\n",
       "    <tr>\n",
       "      <th>2</th>\n",
       "      <td>3</td>\n",
       "      <td>C</td>\n",
       "      <td>4</td>\n",
       "      <td>5</td>\n",
       "      <td>7</td>\n",
       "    </tr>\n",
       "    <tr>\n",
       "      <th>3</th>\n",
       "      <td>4</td>\n",
       "      <td>D</td>\n",
       "      <td>4</td>\n",
       "      <td>6</td>\n",
       "      <td>10</td>\n",
       "    </tr>\n",
       "    <tr>\n",
       "      <th>4</th>\n",
       "      <td>5</td>\n",
       "      <td>E</td>\n",
       "      <td>4</td>\n",
       "      <td>5</td>\n",
       "      <td>7</td>\n",
       "    </tr>\n",
       "    <tr>\n",
       "      <th>5</th>\n",
       "      <td>6</td>\n",
       "      <td>F</td>\n",
       "      <td>3</td>\n",
       "      <td>4</td>\n",
       "      <td>8</td>\n",
       "    </tr>\n",
       "    <tr>\n",
       "      <th>6</th>\n",
       "      <td>7</td>\n",
       "      <td>G</td>\n",
       "      <td>3</td>\n",
       "      <td>5</td>\n",
       "      <td>8</td>\n",
       "    </tr>\n",
       "  </tbody>\n",
       "</table>\n",
       "</div>"
      ],
      "text/plain": [
       "   ID Activity  Optimistic  Normal  Pessimistic\n",
       "0   1        A           2       4            6\n",
       "1   2        B           3       5            9\n",
       "2   3        C           4       5            7\n",
       "3   4        D           4       6           10\n",
       "4   5        E           4       5            7\n",
       "5   6        F           3       4            8\n",
       "6   7        G           3       5            8"
      ]
     },
     "execution_count": 1,
     "metadata": {},
     "output_type": "execute_result"
    }
   ],
   "source": [
    "import pandas as pd\n",
    "\n",
    "df1 = pd.read_csv('data/activity_list.csv')\n",
    "df1"
   ]
  },
  {
   "cell_type": "markdown",
   "metadata": {},
   "source": [
    "Additionally, each task has three time estimates: the optimistic time estimate ($o$), the most likely or normal time estimate ($m$), and the pessimistic time estimate ($p$). The expected time ($te$) is computed using the formula $(o + 4m + p) / 6$."
   ]
  },
  {
   "cell_type": "code",
   "execution_count": 2,
   "metadata": {},
   "outputs": [
    {
     "data": {
      "text/html": [
       "<div>\n",
       "<style scoped>\n",
       "    .dataframe tbody tr th:only-of-type {\n",
       "        vertical-align: middle;\n",
       "    }\n",
       "\n",
       "    .dataframe tbody tr th {\n",
       "        vertical-align: top;\n",
       "    }\n",
       "\n",
       "    .dataframe thead th {\n",
       "        text-align: right;\n",
       "    }\n",
       "</style>\n",
       "<table border=\"1\" class=\"dataframe\">\n",
       "  <thead>\n",
       "    <tr style=\"text-align: right;\">\n",
       "      <th></th>\n",
       "      <th>ID</th>\n",
       "      <th>Activity</th>\n",
       "      <th>Optimistic</th>\n",
       "      <th>Normal</th>\n",
       "      <th>Pessimistic</th>\n",
       "      <th>Expected</th>\n",
       "    </tr>\n",
       "  </thead>\n",
       "  <tbody>\n",
       "    <tr>\n",
       "      <th>0</th>\n",
       "      <td>1</td>\n",
       "      <td>A</td>\n",
       "      <td>2</td>\n",
       "      <td>4</td>\n",
       "      <td>6</td>\n",
       "      <td>4.00</td>\n",
       "    </tr>\n",
       "    <tr>\n",
       "      <th>1</th>\n",
       "      <td>2</td>\n",
       "      <td>B</td>\n",
       "      <td>3</td>\n",
       "      <td>5</td>\n",
       "      <td>9</td>\n",
       "      <td>5.33</td>\n",
       "    </tr>\n",
       "    <tr>\n",
       "      <th>2</th>\n",
       "      <td>3</td>\n",
       "      <td>C</td>\n",
       "      <td>4</td>\n",
       "      <td>5</td>\n",
       "      <td>7</td>\n",
       "      <td>5.17</td>\n",
       "    </tr>\n",
       "    <tr>\n",
       "      <th>3</th>\n",
       "      <td>4</td>\n",
       "      <td>D</td>\n",
       "      <td>4</td>\n",
       "      <td>6</td>\n",
       "      <td>10</td>\n",
       "      <td>6.33</td>\n",
       "    </tr>\n",
       "    <tr>\n",
       "      <th>4</th>\n",
       "      <td>5</td>\n",
       "      <td>E</td>\n",
       "      <td>4</td>\n",
       "      <td>5</td>\n",
       "      <td>7</td>\n",
       "      <td>5.17</td>\n",
       "    </tr>\n",
       "    <tr>\n",
       "      <th>5</th>\n",
       "      <td>6</td>\n",
       "      <td>F</td>\n",
       "      <td>3</td>\n",
       "      <td>4</td>\n",
       "      <td>8</td>\n",
       "      <td>4.50</td>\n",
       "    </tr>\n",
       "    <tr>\n",
       "      <th>6</th>\n",
       "      <td>7</td>\n",
       "      <td>G</td>\n",
       "      <td>3</td>\n",
       "      <td>5</td>\n",
       "      <td>8</td>\n",
       "      <td>5.17</td>\n",
       "    </tr>\n",
       "  </tbody>\n",
       "</table>\n",
       "</div>"
      ],
      "text/plain": [
       "   ID Activity  Optimistic  Normal  Pessimistic  Expected\n",
       "0   1        A           2       4            6      4.00\n",
       "1   2        B           3       5            9      5.33\n",
       "2   3        C           4       5            7      5.17\n",
       "3   4        D           4       6           10      6.33\n",
       "4   5        E           4       5            7      5.17\n",
       "5   6        F           3       4            8      4.50\n",
       "6   7        G           3       5            8      5.17"
      ]
     },
     "execution_count": 2,
     "metadata": {},
     "output_type": "execute_result"
    }
   ],
   "source": [
    "df1['Expected'] = round((df1['Optimistic'] + 4*df1['Normal'] + df1['Pessimistic']) / 6.0, 2)\n",
    "df1"
   ]
  },
  {
   "cell_type": "markdown",
   "metadata": {},
   "source": [
    "In Database Management terms, the nodes have a _many-to-many_ relationships. This is because for each node, the node can be the parent of multiple nodes and it can also be the child of many other nodes as well. Because it is a _many-to-many_ relationship, it is usually represented as a join table which joins the parent nodes with the child nodes."
   ]
  },
  {
   "cell_type": "code",
   "execution_count": 3,
   "metadata": {},
   "outputs": [
    {
     "data": {
      "text/html": [
       "<div>\n",
       "<style scoped>\n",
       "    .dataframe tbody tr th:only-of-type {\n",
       "        vertical-align: middle;\n",
       "    }\n",
       "\n",
       "    .dataframe tbody tr th {\n",
       "        vertical-align: top;\n",
       "    }\n",
       "\n",
       "    .dataframe thead th {\n",
       "        text-align: right;\n",
       "    }\n",
       "</style>\n",
       "<table border=\"1\" class=\"dataframe\">\n",
       "  <thead>\n",
       "    <tr style=\"text-align: right;\">\n",
       "      <th></th>\n",
       "      <th>ID</th>\n",
       "      <th>Parent</th>\n",
       "      <th>Child</th>\n",
       "    </tr>\n",
       "  </thead>\n",
       "  <tbody>\n",
       "    <tr>\n",
       "      <th>0</th>\n",
       "      <td>1</td>\n",
       "      <td>1</td>\n",
       "      <td>3</td>\n",
       "    </tr>\n",
       "    <tr>\n",
       "      <th>1</th>\n",
       "      <td>2</td>\n",
       "      <td>1</td>\n",
       "      <td>4</td>\n",
       "    </tr>\n",
       "    <tr>\n",
       "      <th>2</th>\n",
       "      <td>3</td>\n",
       "      <td>2</td>\n",
       "      <td>5</td>\n",
       "    </tr>\n",
       "    <tr>\n",
       "      <th>3</th>\n",
       "      <td>4</td>\n",
       "      <td>3</td>\n",
       "      <td>5</td>\n",
       "    </tr>\n",
       "    <tr>\n",
       "      <th>4</th>\n",
       "      <td>5</td>\n",
       "      <td>4</td>\n",
       "      <td>6</td>\n",
       "    </tr>\n",
       "    <tr>\n",
       "      <th>5</th>\n",
       "      <td>6</td>\n",
       "      <td>5</td>\n",
       "      <td>7</td>\n",
       "    </tr>\n",
       "  </tbody>\n",
       "</table>\n",
       "</div>"
      ],
      "text/plain": [
       "   ID  Parent  Child\n",
       "0   1       1      3\n",
       "1   2       1      4\n",
       "2   3       2      5\n",
       "3   4       3      5\n",
       "4   5       4      6\n",
       "5   6       5      7"
      ]
     },
     "execution_count": 3,
     "metadata": {},
     "output_type": "execute_result"
    }
   ],
   "source": [
    "df2 = pd.read_csv('data/edge_list.csv')\n",
    "df2"
   ]
  },
  {
   "cell_type": "markdown",
   "metadata": {},
   "source": [
    "### NetworkX\n",
    "\n",
    "We're going to parse the table data above into a `networkx` graph. `networkx` is the main Python library for analyzing graphs and networks. It can be installed in the root environment of Anaconda (if you are using the Anaconda distribution of Python). You can also `pip install` it.\n",
    "\n",
    "First, we're going to add the nodes into a directed graph."
   ]
  },
  {
   "cell_type": "code",
   "execution_count": 4,
   "metadata": {},
   "outputs": [
    {
     "data": {
      "text/plain": [
       "{'A': {'Optimistic': 2,\n",
       "  'Normal': 4,\n",
       "  'Pessimistic': 6,\n",
       "  'Expected': 4.0,\n",
       "  'Type': 'normal'},\n",
       " 'B': {'Optimistic': 3,\n",
       "  'Normal': 5,\n",
       "  'Pessimistic': 9,\n",
       "  'Expected': 5.33,\n",
       "  'Type': 'normal'},\n",
       " 'C': {'Optimistic': 4,\n",
       "  'Normal': 5,\n",
       "  'Pessimistic': 7,\n",
       "  'Expected': 5.17,\n",
       "  'Type': 'normal'},\n",
       " 'D': {'Optimistic': 4,\n",
       "  'Normal': 6,\n",
       "  'Pessimistic': 10,\n",
       "  'Expected': 6.33,\n",
       "  'Type': 'normal'},\n",
       " 'E': {'Optimistic': 4,\n",
       "  'Normal': 5,\n",
       "  'Pessimistic': 7,\n",
       "  'Expected': 5.17,\n",
       "  'Type': 'normal'},\n",
       " 'F': {'Optimistic': 3,\n",
       "  'Normal': 4,\n",
       "  'Pessimistic': 8,\n",
       "  'Expected': 4.5,\n",
       "  'Type': 'normal'},\n",
       " 'G': {'Optimistic': 3,\n",
       "  'Normal': 5,\n",
       "  'Pessimistic': 8,\n",
       "  'Expected': 5.17,\n",
       "  'Type': 'normal'}}"
      ]
     },
     "execution_count": 4,
     "metadata": {},
     "output_type": "execute_result"
    }
   ],
   "source": [
    "import networkx as nx\n",
    "\n",
    "G = nx.DiGraph()\n",
    "\n",
    "for index, row in df1.iterrows():\n",
    "    G.add_node(row['Activity'])\n",
    "    G.node[row['Activity']]['Optimistic'] = row['Optimistic']\n",
    "    G.node[row['Activity']]['Normal'] = row['Normal']\n",
    "    G.node[row['Activity']]['Pessimistic'] = row['Pessimistic']\n",
    "    G.node[row['Activity']]['Expected'] = row['Expected']\n",
    "    G.node[row['Activity']]['Type'] = 'normal'\n",
    "    \n",
    "dict(G.nodes(data=True))"
   ]
  },
  {
   "cell_type": "markdown",
   "metadata": {},
   "source": [
    "Next we're going to add the edges,"
   ]
  },
  {
   "cell_type": "code",
   "execution_count": 5,
   "metadata": {},
   "outputs": [
    {
     "data": {
      "text/plain": [
       "OutEdgeView([('A', 'C'), ('A', 'D'), ('B', 'E'), ('C', 'E'), ('D', 'F'), ('E', 'G')])"
      ]
     },
     "execution_count": 5,
     "metadata": {},
     "output_type": "execute_result"
    }
   ],
   "source": [
    "for index, row in df2.iterrows():\n",
    "    u = df1.at[row['Parent']-1, 'Activity']\n",
    "    v = df1.at[row['Child']-1, 'Activity']\n",
    "    G.add_edge(u, v)\n",
    "    \n",
    "G.edges()"
   ]
  },
  {
   "cell_type": "markdown",
   "metadata": {},
   "source": [
    "### Graph Visualization\n",
    "\n",
    "For graph visualization, we can either use `Matplotlib` or `GraphViz`. I find the latter to be prettier.\n",
    "\n",
    "You will first have to install `Graphviz` and `PyDot` using `pip install graphviz` and `pip install pydot`. Then in order to render the DOT source code, you will also need to install [Graphviz](https://www.graphviz.org/download/).\n",
    "\n",
    "Make sure the directory containing the `dot` executable is on your system's path."
   ]
  },
  {
   "cell_type": "code",
   "execution_count": 6,
   "metadata": {},
   "outputs": [
    {
     "data": {
      "image/png": "[encoded data removed]",
      "text/plain": [
       "<IPython.core.display.Image object>"
      ]
     },
     "metadata": {},
     "output_type": "display_data"
    }
   ],
   "source": [
    "import networkx.drawing.nx_pydot as pdt\n",
    "from IPython.display import Image, display\n",
    "\n",
    "def display_graph(G, colors=None, index_col=None):\n",
    "    A = pdt.to_pydot(G)\n",
    "    for i, node in enumerate(A.get_nodes()):\n",
    "        node.set_shape('circle')\n",
    "        node.set_style('filled')\n",
    "        if colors is not None and index_col is not None:\n",
    "            node.set_fillcolor(colors[node.get_attributes()[index_col]]['fillcolor'])\n",
    "            node.set_fontcolor(colors[node.get_attributes()[index_col]]['fontcolor'])\n",
    "        else:\n",
    "            node.set_fillcolor('cyan')\n",
    "            node.set_fontcolor('black')\n",
    "    plt = Image(A.create_png())\n",
    "    display(plt)\n",
    "    \n",
    "display_graph(G)"
   ]
  },
  {
   "cell_type": "markdown",
   "metadata": {},
   "source": [
    "### Start Node, Finish Node and Subgraph\n",
    "\n",
    "Before we begin our calculation, we're going to create a functionality to add a _start node_ and a _finish node_ into our graph. This is done to mark the beginning and the endpoint of a project. We can then add another functionality to create a subgraph which contains only the nodes between the start node and the finish node. This allows us to break up a large project into smaller, more manageable sub-projects, especially now in the age of _Agile_ and _Iterative Development_.\n",
    "\n",
    "First, we're going to add a finish node. This \"activity\" has a duration of zero. The finish node is connected to a set of activities that we want to accomplish. If the objective is not specified, then this set of activities is assumed to be all activities in the project that doesn't have a successor (meaning the entire project)."
   ]
  },
  {
   "cell_type": "code",
   "execution_count": 7,
   "metadata": {},
   "outputs": [
    {
     "data": {
      "image/png": "[encoded data removed]",
      "text/plain": [
       "<IPython.core.display.Image object>"
      ]
     },
     "metadata": {},
     "output_type": "display_data"
    }
   ],
   "source": [
    "def add_finish_node(G, leaf_nodes=None):\n",
    "    if G.has_node('Finish'):\n",
    "        G.remove_node('Finish')\n",
    "    if leaf_nodes is None:\n",
    "        leaf_nodes = [node for node in G.nodes() if not list(G.successors(node))]\n",
    "    G.add_node('Finish')\n",
    "    G.node['Finish']['Optimistic'] = 0\n",
    "    G.node['Finish']['Normal'] = 0\n",
    "    G.node['Finish']['Pessimistic'] = 0\n",
    "    G.node['Finish']['Expected'] = 0\n",
    "    G.node['Finish']['Type'] = 'normal'\n",
    "    for node in leaf_nodes:\n",
    "        G.add_edge(node, 'Finish')\n",
    "    return G\n",
    "        \n",
    "G = add_finish_node(G)\n",
    "display_graph(G)"
   ]
  },
  {
   "cell_type": "markdown",
   "metadata": {},
   "source": [
    "Next, we're going to add a start node. The start node is connected to all the highest ancestors of the finish node. By doing this, we cover all the predecessor nodes that are required to accomplish the finish node."
   ]
  },
  {
   "cell_type": "code",
   "execution_count": 8,
   "metadata": {},
   "outputs": [
    {
     "data": {
      "image/png": "[encoded data removed]",
      "text/plain": [
       "<IPython.core.display.Image object>"
      ]
     },
     "metadata": {},
     "output_type": "display_data"
    }
   ],
   "source": [
    "def add_start_node(G, finish_node='Finish'):\n",
    "    if G.has_node('Start'):\n",
    "        G.remove_node('Start')\n",
    "    root_nodes = [node for node in nx.ancestors(G, finish_node) if not list(G.predecessors(node))]\n",
    "    G.add_node('Start')\n",
    "    G.node['Start']['Optimistic'] = 0\n",
    "    G.node['Start']['Normal'] = 0\n",
    "    G.node['Start']['Pessimistic'] = 0\n",
    "    G.node['Start']['Expected'] = 0\n",
    "    G.node['Start']['Type'] = 'normal'\n",
    "    for node in root_nodes:\n",
    "        G.add_edge('Start', node)\n",
    "    return G\n",
    "\n",
    "G = add_start_node(G)\n",
    "display_graph(G)"
   ]
  },
  {
   "cell_type": "markdown",
   "metadata": {},
   "source": [
    "After adding the start node and the finish node, we're going to create a new graph which contains only the nodes between the start node and the finish node. This is going to isolate only all the necessary activities to complete the objective while ignoring the rest."
   ]
  },
  {
   "cell_type": "code",
   "execution_count": 9,
   "metadata": {},
   "outputs": [
    {
     "data": {
      "image/png": "[encoded data removed]",
      "text/plain": [
       "<IPython.core.display.Image object>"
      ]
     },
     "metadata": {},
     "output_type": "display_data"
    }
   ],
   "source": [
    "def create_subgraph(G):\n",
    "    nodes = [node for node in nx.ancestors(G, 'Finish') if node in nx.descendants(G, 'Start')]\n",
    "    nodes.extend(['Start', 'Finish'])\n",
    "    return G.subgraph(nodes)\n",
    "    \n",
    "H = create_subgraph(G)    \n",
    "display_graph(H)"
   ]
  },
  {
   "cell_type": "markdown",
   "metadata": {},
   "source": [
    "### Forward Pass, Backward Pass and Slack\n",
    "\n",
    "Each activity in the project is going to have 6 attributes:\n",
    "-  The expected duration time\n",
    "-  The early start time (ES)\n",
    "-  The early finish time (EF)\n",
    "-  The late start time (LS)\n",
    "-  The late finish (LF)\n",
    "-  The slack\n",
    "\n",
    "In order to determine this information it is assumed that the activities and normal duration times are given.\n",
    "\n",
    "### Forward Pass\n",
    "\n",
    "The first step is to determine the ES and FS. The ES is defined as the maximum EF of all predecessor activities, unless the activity in question is the first activity, for which the ES is zero. The EF is the ES plus the task duration (EF = ES + duration).\n",
    "\n",
    "-  The ES for _start_ is zero since it is the first activity. Since the duration is zero, the EF is also zero. This EF is used as the ES for _a_ and _b_.\n",
    "-  The ES for _a_ is zero. The duration (4 work days) is added to the ES to get an EF of four. This EF is used as the ES for _c_ and _d_.\n",
    "-  The ES for _b_ is zero. The duration (5.33 work days) is added to the ES to get an EF of 5.33.\n",
    "-  The ES for _c_ is four. The duration (5.17 work days) is added to the ES to get an EF of 9.17.\n",
    "-  The ES for _d_ is four. The duration (6.33 work days) is added to the ES to get an EF of 10.33. This EF is used as the ES for _f_.\n",
    "-  The ES for _e_ is the greatest EF of its predecessor activities (_b_ and _c_). Since _b_ has an EF of 5.33 and _c_ has an EF of 9.17, the ES of _e_ is 9.17. The duration (5.17 work days) is added to the ES to get an EF of 14.34. This EF is used as the ES for _g_.\n",
    "-  The ES for _f_ is 10.33. The duration (4.5 work days) is added to the ES to get an EF of 14.83.\n",
    "-  The ES for _g_ is 14.34. The duration (5.17 work days) is added to the ES to get an EF of 19.51.\n",
    "-  The ES for _finish_ is the greatest EF of its predecessor activities (_f_ and _g_). Since _f_ has an EF of 14.83 and _g_ has an EF of 19.51, the ES of _finish_ is 19.51. _Finish_ is a milestone (and therefore has a duration of zero), so the EF is also 19.51.\n",
    "\n",
    "Barring any unforeseen events, the project should take 19.51 work days to complete.\n",
    "\n",
    "### Topological Sorting\n",
    "\n",
    "In computer science, topological sorting is a sorting algorithm which sorts all the nodes in a directed acyclic graph such that all the parent nodes will always appear before the child nodes.\n",
    "\n",
    "By using topological sorting, all the calculations above can be done efficiently in a few lines of code, regardless of the number of activities involved."
   ]
  },
  {
   "cell_type": "code",
   "execution_count": 10,
   "metadata": {},
   "outputs": [
    {
     "data": {
      "text/plain": [
       "{'A': {'Optimistic': 2,\n",
       "  'Normal': 4,\n",
       "  'Pessimistic': 6,\n",
       "  'Expected': 4.0,\n",
       "  'Type': 'normal',\n",
       "  'ES': 0,\n",
       "  'EF': 4.0},\n",
       " 'B': {'Optimistic': 3,\n",
       "  'Normal': 5,\n",
       "  'Pessimistic': 9,\n",
       "  'Expected': 5.33,\n",
       "  'Type': 'normal',\n",
       "  'ES': 0,\n",
       "  'EF': 5.33},\n",
       " 'C': {'Optimistic': 4,\n",
       "  'Normal': 5,\n",
       "  'Pessimistic': 7,\n",
       "  'Expected': 5.17,\n",
       "  'Type': 'normal',\n",
       "  'ES': 4.0,\n",
       "  'EF': 9.17},\n",
       " 'D': {'Optimistic': 4,\n",
       "  'Normal': 6,\n",
       "  'Pessimistic': 10,\n",
       "  'Expected': 6.33,\n",
       "  'Type': 'normal',\n",
       "  'ES': 4.0,\n",
       "  'EF': 10.33},\n",
       " 'E': {'Optimistic': 4,\n",
       "  'Normal': 5,\n",
       "  'Pessimistic': 7,\n",
       "  'Expected': 5.17,\n",
       "  'Type': 'normal',\n",
       "  'ES': 9.17,\n",
       "  'EF': 14.34},\n",
       " 'F': {'Optimistic': 3,\n",
       "  'Normal': 4,\n",
       "  'Pessimistic': 8,\n",
       "  'Expected': 4.5,\n",
       "  'Type': 'normal',\n",
       "  'ES': 10.33,\n",
       "  'EF': 14.83},\n",
       " 'G': {'Optimistic': 3,\n",
       "  'Normal': 5,\n",
       "  'Pessimistic': 8,\n",
       "  'Expected': 5.17,\n",
       "  'Type': 'normal',\n",
       "  'ES': 14.34,\n",
       "  'EF': 19.51},\n",
       " 'Finish': {'Optimistic': 0,\n",
       "  'Normal': 0,\n",
       "  'Pessimistic': 0,\n",
       "  'Expected': 0,\n",
       "  'Type': 'normal',\n",
       "  'ES': 19.51,\n",
       "  'EF': 19.51},\n",
       " 'Start': {'Optimistic': 0,\n",
       "  'Normal': 0,\n",
       "  'Pessimistic': 0,\n",
       "  'Expected': 0,\n",
       "  'Type': 'normal',\n",
       "  'ES': 0,\n",
       "  'EF': 0}}"
      ]
     },
     "execution_count": 10,
     "metadata": {},
     "output_type": "execute_result"
    }
   ],
   "source": [
    "for node in nx.topological_sort(H):\n",
    "    parents = list(H.predecessors(node))\n",
    "    if not parents:\n",
    "        H.node[node]['ES'] = 0\n",
    "    else:\n",
    "        H.node[node]['ES'] = max(H.node[x]['EF'] for x in parents)\n",
    "    H.node[node]['EF'] = round(H.node[node]['ES'] + H.node[node]['Expected'], 2)\n",
    "    \n",
    "dict(H.nodes(data=True))  "
   ]
  },
  {
   "cell_type": "markdown",
   "metadata": {},
   "source": [
    "### Backward Pass\n",
    "\n",
    "The next step is to determine the late start (LS) and late finish (LF) of each activity. This will eventually show if there are activities that have slack. The LF is defined as the minimum LS of all successors activities, unless the activity is the last activity, for which the LF equals the EF. The LS is the LF minus the task duration (LS = LF - duration).\n",
    "\n",
    "-  The LF for _finish_ is equal to the EF (19.51 work days) since it is the last activity in the project. Since the duration is zero, the LS is also 19.51 work days. This will be used as the LF for _f_ and _g_.\n",
    "-  The LF for _g_ is 19.51 work days. The duration (5.17 work days) is subtracted from the LF to get an LS of 14.34 work days. This will be used as the LF for _e_.\n",
    "-  The LF for _f_ is 19.51 work days. The duration (4.5 work days) is subtracted from the LF to get an LS of 15.01 work days. This will be used as the LF for _d_.\n",
    "-  The LF for _e_ is 14.34 work days. The duration (5.17 work days) is subtracted from the LF to get an LS of 9.17 work days. This will be used as the LF for _b_ and _c_.\n",
    "-  The LF for _d_ is 15.01 work days. The duration (6.33 work days) is subtracted from the LF to get an LS of 8.68 work days.\n",
    "-  The LF for _c_ is 9.17 work days. The duration (5.17 work days) is subtracted from the LF to get an LS of 4 work days.\n",
    "-  The LF for _b_ is 9.17 work days. The duration (5.33 work days) is subtracted from the LF to get an LS of 3.84 work days.\n",
    "-  The LF for _a_ is the minimum LS of its successor activities. Since _c_ has an LS of 4 work days and _d_ has an LS of 8.68 work days, the LF for _a_ is 4 work days. The duration (4 work days) is subtracted from the LF to get an LS of 0 work days.\n",
    "-  The LF for _start_ is the minimum LS of its successor activities. Since _a_ has an LS of 0 work days and _b_ has an LS of 3.84 work days, the LS is 0 work days."
   ]
  },
  {
   "cell_type": "code",
   "execution_count": 11,
   "metadata": {},
   "outputs": [
    {
     "data": {
      "text/plain": [
       "{'A': {'Optimistic': 2,\n",
       "  'Normal': 4,\n",
       "  'Pessimistic': 6,\n",
       "  'Expected': 4.0,\n",
       "  'Type': 'normal',\n",
       "  'ES': 0,\n",
       "  'EF': 4.0,\n",
       "  'LF': 4.0,\n",
       "  'LS': 0.0},\n",
       " 'B': {'Optimistic': 3,\n",
       "  'Normal': 5,\n",
       "  'Pessimistic': 9,\n",
       "  'Expected': 5.33,\n",
       "  'Type': 'normal',\n",
       "  'ES': 0,\n",
       "  'EF': 5.33,\n",
       "  'LF': 9.17,\n",
       "  'LS': 3.84},\n",
       " 'C': {'Optimistic': 4,\n",
       "  'Normal': 5,\n",
       "  'Pessimistic': 7,\n",
       "  'Expected': 5.17,\n",
       "  'Type': 'normal',\n",
       "  'ES': 4.0,\n",
       "  'EF': 9.17,\n",
       "  'LF': 9.17,\n",
       "  'LS': 4.0},\n",
       " 'D': {'Optimistic': 4,\n",
       "  'Normal': 6,\n",
       "  'Pessimistic': 10,\n",
       "  'Expected': 6.33,\n",
       "  'Type': 'normal',\n",
       "  'ES': 4.0,\n",
       "  'EF': 10.33,\n",
       "  'LF': 15.01,\n",
       "  'LS': 8.68},\n",
       " 'E': {'Optimistic': 4,\n",
       "  'Normal': 5,\n",
       "  'Pessimistic': 7,\n",
       "  'Expected': 5.17,\n",
       "  'Type': 'normal',\n",
       "  'ES': 9.17,\n",
       "  'EF': 14.34,\n",
       "  'LF': 14.34,\n",
       "  'LS': 9.17},\n",
       " 'F': {'Optimistic': 3,\n",
       "  'Normal': 4,\n",
       "  'Pessimistic': 8,\n",
       "  'Expected': 4.5,\n",
       "  'Type': 'normal',\n",
       "  'ES': 10.33,\n",
       "  'EF': 14.83,\n",
       "  'LF': 19.51,\n",
       "  'LS': 15.01},\n",
       " 'G': {'Optimistic': 3,\n",
       "  'Normal': 5,\n",
       "  'Pessimistic': 8,\n",
       "  'Expected': 5.17,\n",
       "  'Type': 'normal',\n",
       "  'ES': 14.34,\n",
       "  'EF': 19.51,\n",
       "  'LF': 19.51,\n",
       "  'LS': 14.34},\n",
       " 'Finish': {'Optimistic': 0,\n",
       "  'Normal': 0,\n",
       "  'Pessimistic': 0,\n",
       "  'Expected': 0,\n",
       "  'Type': 'normal',\n",
       "  'ES': 19.51,\n",
       "  'EF': 19.51,\n",
       "  'LF': 19.51,\n",
       "  'LS': 19.51},\n",
       " 'Start': {'Optimistic': 0,\n",
       "  'Normal': 0,\n",
       "  'Pessimistic': 0,\n",
       "  'Expected': 0,\n",
       "  'Type': 'normal',\n",
       "  'ES': 0,\n",
       "  'EF': 0,\n",
       "  'LF': 0.0,\n",
       "  'LS': 0.0}}"
      ]
     },
     "execution_count": 11,
     "metadata": {},
     "output_type": "execute_result"
    }
   ],
   "source": [
    "for node in list(reversed(list(nx.topological_sort(H)))):\n",
    "    children = list(H.successors(node))\n",
    "    if not children:\n",
    "        H.node[node]['LF'] = H.node[node]['EF']\n",
    "    else:\n",
    "        H.node[node]['LF'] = min(H.node[x]['LS'] for x in children)\n",
    "    H.node[node]['LS'] = round(H.node[node]['LF'] - H.node[node]['Expected'], 2)\n",
    "    \n",
    "dict(H.nodes(data=True))"
   ]
  },
  {
   "cell_type": "markdown",
   "metadata": {},
   "source": [
    "### Slack\n",
    "\n",
    "The next step is to determine if any activities have slack. Slack is computed in one of two ways, slack = LF - EF _or_ slack = LS - ES. Activities that have slack can be delayed without chaing the overall time of the project."
   ]
  },
  {
   "cell_type": "code",
   "execution_count": 12,
   "metadata": {},
   "outputs": [
    {
     "data": {
      "text/plain": [
       "{'A': {'Optimistic': 2,\n",
       "  'Normal': 4,\n",
       "  'Pessimistic': 6,\n",
       "  'Expected': 4.0,\n",
       "  'Type': 'normal',\n",
       "  'ES': 0,\n",
       "  'EF': 4.0,\n",
       "  'LF': 4.0,\n",
       "  'LS': 0.0,\n",
       "  'Slack': 0.0},\n",
       " 'B': {'Optimistic': 3,\n",
       "  'Normal': 5,\n",
       "  'Pessimistic': 9,\n",
       "  'Expected': 5.33,\n",
       "  'Type': 'normal',\n",
       "  'ES': 0,\n",
       "  'EF': 5.33,\n",
       "  'LF': 9.17,\n",
       "  'LS': 3.84,\n",
       "  'Slack': 3.84},\n",
       " 'C': {'Optimistic': 4,\n",
       "  'Normal': 5,\n",
       "  'Pessimistic': 7,\n",
       "  'Expected': 5.17,\n",
       "  'Type': 'normal',\n",
       "  'ES': 4.0,\n",
       "  'EF': 9.17,\n",
       "  'LF': 9.17,\n",
       "  'LS': 4.0,\n",
       "  'Slack': 0.0},\n",
       " 'D': {'Optimistic': 4,\n",
       "  'Normal': 6,\n",
       "  'Pessimistic': 10,\n",
       "  'Expected': 6.33,\n",
       "  'Type': 'normal',\n",
       "  'ES': 4.0,\n",
       "  'EF': 10.33,\n",
       "  'LF': 15.01,\n",
       "  'LS': 8.68,\n",
       "  'Slack': 4.68},\n",
       " 'E': {'Optimistic': 4,\n",
       "  'Normal': 5,\n",
       "  'Pessimistic': 7,\n",
       "  'Expected': 5.17,\n",
       "  'Type': 'normal',\n",
       "  'ES': 9.17,\n",
       "  'EF': 14.34,\n",
       "  'LF': 14.34,\n",
       "  'LS': 9.17,\n",
       "  'Slack': 0.0},\n",
       " 'F': {'Optimistic': 3,\n",
       "  'Normal': 4,\n",
       "  'Pessimistic': 8,\n",
       "  'Expected': 4.5,\n",
       "  'Type': 'normal',\n",
       "  'ES': 10.33,\n",
       "  'EF': 14.83,\n",
       "  'LF': 19.51,\n",
       "  'LS': 15.01,\n",
       "  'Slack': 4.68},\n",
       " 'G': {'Optimistic': 3,\n",
       "  'Normal': 5,\n",
       "  'Pessimistic': 8,\n",
       "  'Expected': 5.17,\n",
       "  'Type': 'normal',\n",
       "  'ES': 14.34,\n",
       "  'EF': 19.51,\n",
       "  'LF': 19.51,\n",
       "  'LS': 14.34,\n",
       "  'Slack': 0.0},\n",
       " 'Finish': {'Optimistic': 0,\n",
       "  'Normal': 0,\n",
       "  'Pessimistic': 0,\n",
       "  'Expected': 0,\n",
       "  'Type': 'normal',\n",
       "  'ES': 19.51,\n",
       "  'EF': 19.51,\n",
       "  'LF': 19.51,\n",
       "  'LS': 19.51,\n",
       "  'Slack': 0.0},\n",
       " 'Start': {'Optimistic': 0,\n",
       "  'Normal': 0,\n",
       "  'Pessimistic': 0,\n",
       "  'Expected': 0,\n",
       "  'Type': 'normal',\n",
       "  'ES': 0,\n",
       "  'EF': 0,\n",
       "  'LF': 0.0,\n",
       "  'LS': 0.0,\n",
       "  'Slack': 0.0}}"
      ]
     },
     "execution_count": 12,
     "metadata": {},
     "output_type": "execute_result"
    }
   ],
   "source": [
    "for node in H.nodes():\n",
    "    H.node[node]['Slack'] = round(H.node[node]['LF'] - H.node[node]['EF'], 2)\n",
    "    \n",
    "dict(H.nodes(data=True))"
   ]
  },
  {
   "cell_type": "markdown",
   "metadata": {},
   "source": [
    "-  _Start_ and _finish_ are milestones and by definition have no duration, therefore they can have no slack (0 work days).\n",
    "-  The activities on the critical path by definition have a slack of zero; however, it is always a good idea to check the math anyway when drawing by hand.\n",
    "   -  $LF_a - EF_a = 4 - 4 = 0$\n",
    "   -  $LF_c - EF_c = 9.17 - 9.17 = 0$\n",
    "   -  $LF_e - EF_e = 14.34 - 14.34 = 0$\n",
    "   -  $LF_g - EF_g = 19.51 - 19.51 = 0$\n",
    "-  Activity _b_ has an LF of 9.17 and an EF of 5.33, so the slack is 3.84 work days.\n",
    "-  Activity _d_ has an LF of 15.01 and an EF of 10.33, so the slack is 4.68 work days.\n",
    "-  Activity _f_ has an LF of 19.51 and an EF of 14.83, so the slack is 4.68 work days.\n",
    "\n",
    "Therefore, activity _b_ can be delayed almost 4 work days without delaying the project. Likewise, activity _d_ __or__ activity _f_ can be delayed 4.68 work days without delaying the project (alternatively, _d_ and _f_ can be delayed 2.34 work days each).\n",
    "\n",
    "### Critical Path\n",
    "\n",
    "The critical path is the path that takes the __longest__ to complete. To determine the path times, add the task durations for all available paths. Activities that are on the critical path have a slack of zero."
   ]
  },
  {
   "cell_type": "code",
   "execution_count": 13,
   "metadata": {},
   "outputs": [
    {
     "data": {
      "text/plain": [
       "['Start', 'A', 'C', 'E', 'G', 'Finish']"
      ]
     },
     "execution_count": 13,
     "metadata": {},
     "output_type": "execute_result"
    }
   ],
   "source": [
    "[node for node in nx.topological_sort(H) if H.node[node]['Slack'] == 0]"
   ]
  },
  {
   "cell_type": "code",
   "execution_count": 14,
   "metadata": {},
   "outputs": [
    {
     "data": {
      "text/plain": [
       "['Start', 'A', 'C', 'E', 'G', 'Finish']"
      ]
     },
     "execution_count": 14,
     "metadata": {},
     "output_type": "execute_result"
    }
   ],
   "source": [
    "max(nx.all_simple_paths(H, source='Start', target='Finish'), key=lambda path: sum(H.node[node]['Expected'] for node in path))"
   ]
  },
  {
   "cell_type": "markdown",
   "metadata": {},
   "source": [
    "The critical path is _aceg_ and the critical time is 19.51 work days. It is important to note that there can be more than one critical path (in a project more complex than this example) or that the critical path can change. For example, let's say that activities _d_ and _f_ take their pessimistic (_p_) times to complete instead of their expected (_te_) times. The critical path is now _adf_ and the critical time is 22 work days. On the other hand, if activity _c_ can be reduced to one work day, the path time for _aceg_ is reduced to 15.34 work days, which is slightly less than the time of the new critical path, _beg_ (15.67 work days)."
   ]
  },
  {
   "cell_type": "code",
   "execution_count": 15,
   "metadata": {},
   "outputs": [
    {
     "data": {
      "image/png": "[encoded data removed]",
      "text/plain": [
       "<IPython.core.display.Image object>"
      ]
     },
     "metadata": {},
     "output_type": "display_data"
    }
   ],
   "source": [
    "def critical_path(H, src='Start', dest='Finish'):\n",
    "    path_duration = lambda path: sum(H.node[node]['Expected'] for node in path)\n",
    "    return max(nx.all_simple_paths(H, source='Start', target='Finish'), key=path_duration)\n",
    "\n",
    "def highlight_critical_path(H, src='Start', dest='Finish'):\n",
    "    critical = critical_path(H, src=src, dest=dest)\n",
    "    for node in H.nodes():\n",
    "        if node in critical:\n",
    "            H.node[node]['Type'] = 'critical'\n",
    "        else:\n",
    "            H.node[node]['Type'] = 'normal'\n",
    "    return H\n",
    "\n",
    "H = highlight_critical_path(H)\n",
    "\n",
    "colors = {'normal': {'fillcolor': 'cyan', 'fontcolor': 'black'},\n",
    "          'critical': {'fillcolor': 'red', 'fontcolor': 'white'}}\n",
    "display_graph(H, colors=colors, index_col='Type')"
   ]
  },
  {
   "cell_type": "markdown",
   "metadata": {},
   "source": [
    "After we've finished calculating all the information above, we can now display the information in a pretty Gantt chart."
   ]
  },
  {
   "cell_type": "code",
   "execution_count": 16,
   "metadata": {},
   "outputs": [
    {
     "data": {
      "application/vnd.jupyter.widget-view+json": {
       "model_id": "52cd16da1bad4fa6980fb12ed5acfcb9",
       "version_major": 2,
       "version_minor": 0
      },
      "text/plain": [
       "FigureWidget({\n",
       "    'data': [{'marker': {'color': 'white'},\n",
       "              'name': '',\n",
       "              'showlegend…"
      ]
     },
     "metadata": {},
     "output_type": "display_data"
    }
   ],
   "source": [
    "import plotly.graph_objs as go\n",
    "import plotly.figure_factory as ff\n",
    "import plotly.offline as py\n",
    "from IPython.display import display\n",
    "from datetime import datetime, timedelta\n",
    "\n",
    "def display_gantt_chart(G, start='ES', finish='EF', begin=None, colors=None, reverse_colors=False,\n",
    "                        index_col=None, show_colorbar=False, title='Gantt Chart', bar_width=0.2,\n",
    "                        showgrid_x=True, showgrid_y=True):\n",
    "    if begin is None:\n",
    "        begin = datetime.now().date()\n",
    "    else:\n",
    "        begin = datetime.strptime(begin, '%Y-%m-%d').date()\n",
    "    df = [dict(Task   = node,\n",
    "               Start  = str(begin + timedelta(days=G.node[node][start])),\n",
    "               Finish = str(begin + timedelta(G.node[node][finish])),\n",
    "               Type   = G.node[node]['Type'])\n",
    "          for node in list(reversed(list(nx.topological_sort(G))))]\n",
    "    fig = ff.create_gantt(df, colors=colors, reverse_colors=reverse_colors, index_col=index_col,\n",
    "                          show_colorbar=show_colorbar, title=title, bar_width=bar_width,\n",
    "                          showgrid_x=showgrid_x, showgrid_y=showgrid_y)\n",
    "    f = go.FigureWidget(fig)\n",
    "    display(f)\n",
    "\n",
    "\n",
    "colors = {'normal': 'rgb(117, 218, 255)',\n",
    "          'critical': 'rgb(255, 0, 0)'}\n",
    "display_gantt_chart(H, colors=colors, index_col='Type', show_colorbar=True)"
   ]
  },
  {
   "cell_type": "code",
   "execution_count": 17,
   "metadata": {},
   "outputs": [
    {
     "data": {
      "image/png": "[encoded data removed]",
      "text/plain": [
       "<IPython.core.display.Image object>"
      ]
     },
     "metadata": {},
     "output_type": "display_data"
    },
    {
     "data": {
      "application/vnd.jupyter.widget-view+json": {
       "model_id": "3c20c489518e4642bcbc9ff9794a5216",
       "version_major": 2,
       "version_minor": 0
      },
      "text/plain": [
       "FigureWidget({\n",
       "    'data': [{'marker': {'color': 'white'},\n",
       "              'name': '',\n",
       "              'showlegend…"
      ]
     },
     "metadata": {},
     "output_type": "display_data"
    }
   ],
   "source": [
    "import pandas as pd\n",
    "import networkx as nx\n",
    "import networkx.drawing.nx_pydot as pdt\n",
    "import plotly.graph_objs as go\n",
    "import plotly.figure_factory as ff\n",
    "import plotly.offline as py\n",
    "from IPython.display import Image, display\n",
    "from datetime import datetime, timedelta\n",
    "from collections import defaultdict\n",
    "\n",
    "def read_files(activity_file, edge_file, header=['infer','infer'],\n",
    "               id=[False,False], coeffs=[1,4,1], key=True):\n",
    "    \n",
    "    # Read activity file and edge file into a pd.DataFrame\n",
    "    df1 = pd.read_csv(activity_file, header=header[0])\n",
    "    df2 = pd.read_csv(edge_file, header=header[1])\n",
    "    \n",
    "    # If either file contains an ID column, drop it\n",
    "    if id[0]:\n",
    "        df1 = df1.drop(df1.columns[0], axis=1)\n",
    "    if id[1]:\n",
    "        df2 = df2.drop(df2.columns[0], axis=1)\n",
    "        \n",
    "    # First we're going to convert the activity file into\n",
    "    # a dictionary. Iterate over rows in dataframe.\n",
    "    activity_dict = defaultdict(dict)\n",
    "    for _, row in df1.iterrows():\n",
    "        \n",
    "        # The node is the first element of row\n",
    "        # Optimistic time is the second element\n",
    "        # Normal time is the third element\n",
    "        # Pessimistic time is the fourth element\n",
    "        node = row.iat[0]\n",
    "        activity_dict[node]['Optimistic'] = row.iat[1]\n",
    "        activity_dict[node]['Normal'] = row.iat[2]\n",
    "        activity_dict[node]['Pessimistic'] = row.iat[3]\n",
    "        \n",
    "        # Since we haven't calculated the critical path\n",
    "        # we're assuming the node is of type 'normal'\n",
    "        # instead of 'critical'\n",
    "        activity_dict[node]['Type'] = 'normal'\n",
    "        activity_dict[node]['Status'] = 'To Do'\n",
    "        activity_dict[node]['StartDate'] = None\n",
    "        activity_dict[node]['FinishDate'] = None\n",
    "        \n",
    "        # Calculated the expected time using the formula:\n",
    "        #\n",
    "        #    E = (O + 4M + P) / 6\n",
    "        #\n",
    "        # where O = Optimistic Time\n",
    "        #       M = Most Likely Time / Normal Time\n",
    "        #       P = Pessimistic Time\n",
    "        #\n",
    "        # The coefficients can be changed in the 'coeffs'\n",
    "        # parameter.\n",
    "        #\n",
    "        activity_dict[node]['Expected'] =\\\n",
    "            round((coeffs[0]*activity_dict[node]['Optimistic'] +\\\n",
    "                   coeffs[1]*activity_dict[node]['Normal'] +\\\n",
    "                   coeffs[2]*activity_dict[node]['Pessimistic'])\\\n",
    "                   / float(sum(coeffs)), 2)\n",
    "        \n",
    "        activity_dict[node]['Actual'] = activity_dict[node]['Expected']\n",
    "    \n",
    "    # Next we're going to convert the edge file into a list\n",
    "    edge_list = []\n",
    "    if key:\n",
    "        # If the edge file uses parent IDs and child IDs\n",
    "        # then we need to refer to its location in the\n",
    "        # activity file\n",
    "        for _, row in df2.iterrows():\n",
    "            u = df1.iat[row.iat[0]-1, 0]\n",
    "            v = df1.iat[row.iat[1]-1, 0]\n",
    "            edge_list.append((u, v))\n",
    "    else:\n",
    "        # If the edge file uses parent nodes and child nodes\n",
    "        # instead of IDs, simply add an edge between the nodes\n",
    "        for _, row in df2.iterrows():\n",
    "            u = row.iat[0]\n",
    "            v = row.iat[1]\n",
    "            edge_list.append((u, v))\n",
    "            \n",
    "    return activity_dict, edge_list\n",
    "\n",
    "\n",
    "def to_activity_dict(activity_matrix, coeffs=[1,4,1]):\n",
    "    \"\"\"\n",
    "    This function converts a 2-dimensional matrix into\n",
    "    a dictionary of nodes and attributes\n",
    "    \"\"\"\n",
    "    activity_dict = defaultdict(dict)\n",
    "    for row in activity_matrix:\n",
    "        \n",
    "        # The node is the first element of row\n",
    "        # Optimistic time is the second element\n",
    "        # Normal time is the third element\n",
    "        # Pessimistic time is the fourth element\n",
    "        node = row[0]\n",
    "        activity_dict[node]['Optimistic'] = row[1]\n",
    "        activity_dict[node]['Normal'] = row[2]\n",
    "        activity_dict[node]['Pessimistic'] = row[3]\n",
    "        \n",
    "        # Since we haven't calculated the critical path\n",
    "        # we're assuming the node is of type 'normal'\n",
    "        # instead of 'critical'\n",
    "        activity_dict[node]['Type'] = 'normal'\n",
    "        activity_dict[node]['Status'] = 'To Do'\n",
    "        activity_dict[node]['StartDate'] = None\n",
    "        activity_dict[node]['FinishDate'] = None\n",
    "        \n",
    "        # Calculated the expected time using the formula:\n",
    "        #\n",
    "        #    E = (O + 4M + P) / 6\n",
    "        #\n",
    "        # where O = Optimistic Time\n",
    "        #       M = Most Likely Time / Normal Time\n",
    "        #       P = Pessimistic Time\n",
    "        #\n",
    "        # The coefficients can be changed in the 'coeffs'\n",
    "        # parameter.\n",
    "        #\n",
    "        activity_dict[node]['Expected'] =\\\n",
    "            round((coeffs[0]*activity_dict[node]['Optimistic'] +\\\n",
    "                   coeffs[1]*activity_dict[node]['Normal'] +\\\n",
    "                   coeffs[2]*activity_dict[node]['Pessimistic'])\\\n",
    "                   / float(sum(coeffs)), 2)\n",
    "        \n",
    "        activity_dict[node]['Actual'] = activity_dict[node]['Expected']\n",
    "        \n",
    "    return activity_dict\n",
    "\n",
    "\n",
    "def to_edge_list(adjacency_list, reverse=False):\n",
    "    \"\"\"\n",
    "    This function converts a dictionary of lists adjacency\n",
    "    representation into a list of edge tuples.\n",
    "    \"\"\"\n",
    "    if not reverse:\n",
    "        edge_list = [(node, nbr) for node, neighbors in adjacency_list.items() for nbr in neighbors]\n",
    "    else:\n",
    "        edge_list = [(nbr, node) for node, neighbors in adjacency_list.items() for nbr in neighbors]\n",
    "    return edge_list\n",
    "\n",
    "\n",
    "def parse_graph(activities, edges, title='Project X', begin=None, deadline=None):\n",
    "    \"\"\"\n",
    "    Create a dependency graph from a list of activities and edges\n",
    "    \"\"\"\n",
    "    # Create a new Directed Graph and set its\n",
    "    # Title, Begin and Deadline. The Begin date\n",
    "    # is today's date if it is not provided.\n",
    "    G = nx.DiGraph()\n",
    "    G.graph['Title'] = title\n",
    "    G.graph['Begin'] = str(datetime.now().date()) if begin is None else begin\n",
    "    G.graph['Deadline'] = deadline\n",
    "    \n",
    "    # networkx.graph.add_nodes_from() only accepts\n",
    "    # list of nodes or list of tuples. By using\n",
    "    # dict.items(), we give one more option to\n",
    "    # add nodes using a dictionary of nodes and\n",
    "    # attributes.\n",
    "    if isinstance(activities, dict):\n",
    "        G.add_nodes_from(activities.items())\n",
    "    else:\n",
    "        G.add_nodes_from(activities)\n",
    "        \n",
    "    # Add edges into graph using an edge list\n",
    "    G.add_edges_from(edges)\n",
    "    \n",
    "    return G\n",
    "    \n",
    "    \n",
    "def display_graph(G, colors=None, index_col=None):\n",
    "    \"\"\"\n",
    "    This function displays the visual representation\n",
    "    of the dependency network\n",
    "    \"\"\"\n",
    "    # Convert G to an AGraph to visualize it\n",
    "    # using GraphViz. We can also use Matplotlib\n",
    "    # but I find GraphViz to be prettier.\n",
    "    A = pdt.to_pydot(G)\n",
    "    \n",
    "    # Set the node attributes for styling\n",
    "    for i, node in enumerate(A.get_nodes()):\n",
    "        node.set_shape('circle')\n",
    "        node.set_style('filled')\n",
    "        \n",
    "        if colors is not None and index_col is not None:\n",
    "            # If an index column and a colors dictionary is provided,\n",
    "            # we want classify the nodes based on the attribute value\n",
    "            # at index column and visualize the difference\n",
    "            node.set_fillcolor(colors[node.get_attributes()[index_col]]['fillcolor'])\n",
    "            node.set_fontcolor(colors[node.get_attributes()[index_col]]['fontcolor'])\n",
    "        else:    \n",
    "            # Otherwise, just set the color to default\n",
    "            node.set_fillcolor('cyan')\n",
    "            node.set_fontcolor('black')\n",
    "            \n",
    "    # Display the created AGraph\n",
    "    plt = Image(A.create_png())\n",
    "    display(plt)\n",
    "\n",
    "    \n",
    "def add_finish_node(G, leaf_nodes=None):\n",
    "    \"\"\"\n",
    "    This function adds a 'Finish' node to the dependency network\n",
    "    \"\"\"\n",
    "    # Remove 'Finish' node from G if G already has it\n",
    "    if G.has_node('Finish'):\n",
    "        G.remove_node('Finish')\n",
    "        \n",
    "    # If the leaf nodes are not provided, search for\n",
    "    # all the lowest descendants in G.\n",
    "    if leaf_nodes is None:\n",
    "        leaf_nodes = [node for node in G.nodes() if not list(G.successors(node))]\n",
    "        \n",
    "    # Create a 'Finish' node\n",
    "    G.add_node('Finish')\n",
    "    G.node['Finish']['Optimistic'] = 0\n",
    "    G.node['Finish']['Normal'] = 0\n",
    "    G.node['Finish']['Pessimistic'] = 0\n",
    "    G.node['Finish']['Expected'] = 0\n",
    "    G.node['Finish']['Actual'] = 0\n",
    "    G.node['Finish']['Type'] = 'normal'\n",
    "    G.node['Finish']['Status'] = 'To Do'\n",
    "    G.node['Finish']['StartDate'] = None\n",
    "    G.node['Finish']['FinishDate'] = None\n",
    "    \n",
    "    # Add an edge from all the leaf nodes to 'Finish' node\n",
    "    for node in leaf_nodes:\n",
    "        G.add_edge(node, 'Finish')\n",
    "    return G\n",
    "\n",
    "\n",
    "def add_start_node(G, completed=None, finish_node='Finish'):\n",
    "    \"\"\"\n",
    "    This function adds a 'Start' node to the dependency network\n",
    "    \"\"\"\n",
    "    # Remove 'Start' node from G if G already has it\n",
    "    if G.has_node('Start'):\n",
    "        G.remove_node('Start')\n",
    "        \n",
    "    if completed is not None:\n",
    "        # If some tasks have already been completed\n",
    "        # then we're going to look for the highest\n",
    "        # ancestors of finish node that have not been\n",
    "        # completed.\n",
    "        \n",
    "        # First, we're going connect all the completed\n",
    "        # nodes to a node called 'Completed'. All the\n",
    "        # ancestors of 'Completed' are nodes we want\n",
    "        # to exclude.\n",
    "        G.add_node('Completed')\n",
    "        for node in completed:\n",
    "            G.add_edge(node, 'Completed')\n",
    "        \n",
    "        # Create a subgraph which contains only nodes\n",
    "        # that have not been completed\n",
    "        nodes = [node for node in nx.ancestors(G, finish_node) if node not in nx.ancestors(G, 'Completed')]\n",
    "        nodes.remove('Completed')\n",
    "        H = nx.DiGraph(G.subgraph(nodes))\n",
    "        \n",
    "        # The root nodes are the nodes in this new graph\n",
    "        # which is the ancestors of the finish node and\n",
    "        # does not have a predecessor.\n",
    "        root_nodes = [node for node in nx.ancestors(H, finish_node) if not list(H.predecessors(node))]\n",
    "        \n",
    "        # Don't forget to remove the 'Completed' node from\n",
    "        # the original graph\n",
    "        G.remove_node('Completed')\n",
    "    else:\n",
    "        # Otherwise, the root nodes are simply the ancestors\n",
    "        # of finish node which does not have a predecessor.\n",
    "        root_nodes = [node for node in nx.ancestors(G, finish_node) if not list(G.predecessors(node))]\n",
    "    \n",
    "    # Create a 'Start' node\n",
    "    G.add_node('Start')\n",
    "    G.node['Start']['Optimistic'] = 0\n",
    "    G.node['Start']['Normal'] = 0\n",
    "    G.node['Start']['Pessimistic'] = 0\n",
    "    G.node['Start']['Expected'] = 0\n",
    "    G.node['Start']['Actual'] = 0\n",
    "    G.node['Start']['Type'] = 'normal'\n",
    "    G.node['Start']['Status'] = 'Available'\n",
    "    G.node['Start']['StartDate'] = None\n",
    "    G.node['Start']['FinishDate'] = None\n",
    "    \n",
    "    # Add an edge from 'Start' node to all the root nodes\n",
    "    for node in root_nodes:\n",
    "        G.add_edge('Start', node)\n",
    "    return G\n",
    "\n",
    "\n",
    "def create_subgraph(G, src='Start', dest='Finish', title=None, begin=None, deadline=None):\n",
    "    \n",
    "    # First we're going to search for all the nodes in between\n",
    "    # src and dest, including the src and dest\n",
    "    nodes = [node for node in nx.ancestors(G, dest) if node in nx.descendants(G, src)]\n",
    "    nodes.extend([src, dest])\n",
    "    \n",
    "    # Then we create a new graph from G which only contains\n",
    "    # the nodes we searched previously\n",
    "    H = nx.DiGraph(G.subgraph(nodes))\n",
    "    \n",
    "    # Set the Title, Begin and Deadline for the new graph.\n",
    "    # If the values are not provided, use the values from G.\n",
    "    H.graph['Title'] = G.graph['Title'] if title is None else title\n",
    "    H.graph['Begin'] = G.graph['Begin'] if begin is None else begin\n",
    "    H.graph['Deadline'] = G.graph['Deadline'] if deadline is None else deadline\n",
    "    return H\n",
    "\n",
    "\n",
    "def init_graph(H, margin=0):\n",
    "    \"\"\"\n",
    "    Calculates all the node attributes, such as\n",
    "    ES, LS, EF, LF and Slack.\n",
    "    \"\"\"\n",
    "    # Perform a forward and backward pass\n",
    "    forward_pass(H)\n",
    "    backward_pass(H)\n",
    "    \n",
    "    # Calculates the Slack\n",
    "    calculate_slack(H)\n",
    "    \n",
    "    # Highlight critical activities\n",
    "    highlight_critical_activities(H, margin=margin)\n",
    "    \n",
    "    return H\n",
    "\n",
    "\n",
    "def forward_pass(H):\n",
    "    \"\"\"\n",
    "    Calculate the Early Start and the Early Finish\n",
    "    of the nodes in the graph\n",
    "    \"\"\"\n",
    "    # Convert the begin date into a date object\n",
    "    begin = datetime.strptime(H.graph['Begin'], '%Y-%m-%d').date()\n",
    "    \n",
    "    # Traverse the nodes in Topological order\n",
    "    for node in nx.topological_sort(H):\n",
    "        \n",
    "        parents = list(H.predecessors(node))\n",
    "        if not parents:\n",
    "            # If the node has no predecessors, then\n",
    "            # it is the first activity. Set the\n",
    "            # Early Start to zero.\n",
    "            H.node[node]['ES'] = 0\n",
    "        else:\n",
    "            # Otherwise, the Early Start of this\n",
    "            # activity is the latest Early Finish\n",
    "            # of its predecessors activities.\n",
    "            H.node[node]['ES'] = max(H.node[x]['EF'] for x in parents)\n",
    "        \n",
    "        if H.node[node]['StartDate'] is not None:\n",
    "            # If the start date is set, then\n",
    "            # the start time cannot be less\n",
    "            # than the start date\n",
    "            start = datetime.strptime(H.node[node]['StartDate'], '%Y-%m-%d').date()\n",
    "            H.node[node]['ES'] = max(H.node[node]['ES'], (start - begin).days)\n",
    "        \n",
    "        # By default, the Early Finish of this activity is\n",
    "        # simply the Early Start plus the duration.\n",
    "        H.node[node]['EF'] = round(H.node[node]['ES'] + H.node[node]['Actual'], 2)\n",
    "        \n",
    "        if H.node[node]['FinishDate'] is not None:\n",
    "            # If a finish date is set, then the Early Finish\n",
    "            # cannot be greater than the finish date but also\n",
    "            # cannot be less than the Early Start.\n",
    "            finish = datetime.strptime(H.node[node]['FinishDate'], '%Y-%m-%d').date()\n",
    "            H.node[node]['EF'] = min(H.node[node]['EF'], (finish - begin).days)\n",
    "            H.node[node]['EF'] = max(H.node[node]['EF'], H.node[node]['ES'])\n",
    "\n",
    "    return H\n",
    "\n",
    "\n",
    "def backward_pass(H):\n",
    "    \"\"\"\n",
    "    Calculate the Late Start and the Late Finish\n",
    "    of the nodes in the graph\n",
    "    \"\"\"\n",
    "    # Convert the begin date into a date object\n",
    "    begin = datetime.strptime(H.graph['Begin'], '%Y-%m-%d').date()\n",
    "    \n",
    "    # Traverse the nodes in reverse topological order\n",
    "    for node in list(reversed(list(nx.topological_sort(H)))):\n",
    "        \n",
    "        children = list(H.successors(node))\n",
    "        if not children:\n",
    "            # If the node has no successors, then\n",
    "            # it is the last activity.\n",
    "            if H.graph['Deadline'] is None:\n",
    "                # If a deadline is not set, then\n",
    "                # the Late Finish is the same as\n",
    "                # the Early Finish.\n",
    "                H.node[node]['LF'] = H.node[node]['EF']\n",
    "            else:\n",
    "                # If a deadline is set, then the Late Finish\n",
    "                # is the number of days between begin and deadline\n",
    "                # but it cannot be less than the Early Finish\n",
    "                deadline = datetime.strptime(H.graph['Deadline'], '%Y-%m-%d').date()\n",
    "                H.node[node]['LF'] = max((deadline - begin).days, H.node[node]['EF'])\n",
    "        else:\n",
    "            # Otherwise, the Late Finish of this\n",
    "            # activity is the minimum Late Start\n",
    "            # of its successors activities.\n",
    "            H.node[node]['LF'] = min(H.node[x]['LS'] for x in children)\n",
    "            \n",
    "        if H.node[node]['FinishDate'] is not None:\n",
    "            # If a finish date has been set, then\n",
    "            # the Late Finish cannot be greater than\n",
    "            # the finish date, but it also cannot\n",
    "            # be less than the Early Finish\n",
    "            finish = datetime.strptime(H.node[node]['FinishDate'], '%Y-%m-%d').date()\n",
    "            H.node[node]['LF'] = min(H.node[node]['LF'], (finish - begin).days)\n",
    "            H.node[node]['LF'] = max(H.node[node]['LF'], H.node[node]['EF'])\n",
    "        \n",
    "        # The Late Start of this activity is simply\n",
    "        # the Late Finish minus the duration. It cannot\n",
    "        # be less than the Early Start.\n",
    "        H.node[node]['LS'] = round(H.node[node]['LF'] - H.node[node]['Actual'], 2)\n",
    "        H.node[node]['LS'] = max(H.node[node]['LS'], H.node[node]['ES'])\n",
    "        \n",
    "    return H\n",
    "\n",
    "\n",
    "def calculate_slack(H):\n",
    "    \"\"\"\n",
    "    Calculates the Slack of the activities\n",
    "    in the graph\n",
    "    \"\"\"\n",
    "    for node in H.nodes():\n",
    "        # The Slack is calculated by finding the difference\n",
    "        # between Early Start and Late Start or Early Finish\n",
    "        # and Late Finish\n",
    "        H.node[node]['Slack'] = round(H.node[node]['LF'] - H.node[node]['EF'], 2)\n",
    "    return H\n",
    "\n",
    "\n",
    "def reset(G, duration=None, margin=0):\n",
    "    \n",
    "    for node in G.nodes():\n",
    "        if duration is not None:\n",
    "            G.node[node]['Actual'] = G.node[node][duration]\n",
    "        G.node[node]['StartDate'] = None\n",
    "        G.node[node]['FinishDate'] = None\n",
    "        G.node[node]['Status'] = 'To Do'\n",
    "\n",
    "    G.node['Start']['Status'] = 'Available'    \n",
    "    return init_graph(G, margin=margin)\n",
    "        \n",
    "    \n",
    "def highlight_critical_activities(H, src='Start', dest='Finish', margin=0):\n",
    "    \"\"\"\n",
    "    Label the nodes as 'critical' or 'normal' based on\n",
    "    whether they lie on the critical path\n",
    "    \"\"\"    \n",
    "    critical = critical_activities(H, src=src, dest=dest, margin=margin)\n",
    "    for node in H.nodes():\n",
    "        if node in critical:\n",
    "            H.node[node]['Type'] = 'critical'\n",
    "        else:\n",
    "            H.node[node]['Type'] = 'normal'\n",
    "    return H\n",
    "        \n",
    "    \n",
    "def critical_paths(H, src='Start', dest='Finish', margin=0):\n",
    "    \"\"\"\n",
    "    A function to find all the critical paths and the duration\n",
    "    of the paths in graph H from source to destination\n",
    "    \"\"\"\n",
    "    # This is a function to calculate the total duration of a path.\n",
    "    path_duration = lambda path: sum(H.node[node]['Actual'] for node in path)\n",
    "    \n",
    "    # All simple paths between source and destination\n",
    "    paths = list(nx.all_simple_paths(H, source=src, target=dest))\n",
    "    \n",
    "    # Find the maximum duration in the path between src and dest.\n",
    "    max_duration = max(path_duration(path) for path in paths)\n",
    "    \n",
    "    # A critical path is a path between src and dest which has the maximum duration\n",
    "    critical_paths = [path for path in paths if (max_duration - path_duration(path)) <= margin]\n",
    "    \n",
    "    return critical_paths, max_duration\n",
    "\n",
    "\n",
    "def critical_activities(H, src='Start', dest='Finish', margin=0):\n",
    "    \"\"\"\n",
    "    Return a set of activities that lie on the critical path\n",
    "    \"\"\"   \n",
    "    critical = critical_paths(H, src=src, dest=dest, margin=margin)[0]\n",
    "    return set(activity for path in critical for activity in path)\n",
    "\n",
    "\n",
    "def display_gantt_chart(G, begin=None, colors=None, reverse_colors=False, index_col='Type',\n",
    "                        show_colorbar=True, title=None, bar_width=0.2, showgrid_x=True,\n",
    "                        showgrid_y=True, group_tasks=True):\n",
    "    \"\"\"\n",
    "    This function displays a Gantt chart representation\n",
    "    of the dependency network\n",
    "    \"\"\"\n",
    "    # If a begin date is not provided, use the begin date of G\n",
    "    if begin is None:\n",
    "        begin = G.graph['Begin']\n",
    "        \n",
    "    # Convert date string into datetime format\n",
    "    begin = datetime.strptime(begin, '%Y-%m-%d').date()\n",
    "    \n",
    "    # If a title is not provided, use the title of G\n",
    "    if title is None:\n",
    "        title = G.graph['Title']\n",
    "        \n",
    "    # Convert graph G into a dataframe format that ff.create_gantt() can read\n",
    "    df = to_dataframe(G, begin, index_col)\n",
    "    \n",
    "    # Create Gantt chart\n",
    "    fig = ff.create_gantt(df, colors=colors, reverse_colors=reverse_colors, index_col=index_col,\n",
    "                          show_colorbar=show_colorbar, title=title, bar_width=bar_width,\n",
    "                          showgrid_x=showgrid_x, showgrid_y=showgrid_y, group_tasks=group_tasks)\n",
    "    \n",
    "    # Convert Gantt chart into a figure widget and display it\n",
    "    f = go.FigureWidget(fig)\n",
    "    display(f)\n",
    "    \n",
    "    \n",
    "def to_dataframe(G, begin, index_col):\n",
    "    df = []\n",
    "    for node in nx.topological_sort(G):\n",
    "        task = dict(Task   = node,\n",
    "                    Start  = str(begin + timedelta(days=G.node[node]['ES'])),\n",
    "                    Finish = str(begin + timedelta(days=G.node[node]['EF'])))\n",
    "        task[index_col] = G.node[node][index_col]\n",
    "        \n",
    "        slack = dict(Task   = node,\n",
    "                     Start  = str(begin + timedelta(days=G.node[node]['EF'])),\n",
    "                     Finish = str(begin + timedelta(days=G.node[node]['LF'])))\n",
    "        slack[index_col] = 'slack'\n",
    "        \n",
    "        df.extend([task, slack])\n",
    "    return df\n",
    "\n",
    "\n",
    "def PERT(G, leaf_nodes=None, completed=None, duration=None, title=None,\n",
    "         begin=None, deadline=None, margin=0):\n",
    "    G = add_finish_node(G, leaf_nodes=leaf_nodes)\n",
    "    G = add_start_node(G, completed=completed)\n",
    "    H = create_subgraph(G, title=title, begin=begin, deadline=deadline)\n",
    "    H = reset(H, duration=duration, margin=margin)\n",
    "    return H\n",
    "\n",
    "def update_progress(H, date=None):\n",
    "    \n",
    "    if date is None:\n",
    "        # If a date is not provided then it is\n",
    "        # assumed to be today.\n",
    "        date = str(datetime.now().date())\n",
    "        \n",
    "    # Convert the date string into a datetime object\n",
    "    date = datetime.strptime(date, '%Y-%m-%d').date()\n",
    "    \n",
    "    # Convert the begin date into a date object\n",
    "    begin = datetime.strptime(H.graph['Begin'], '%Y-%m-%d').date()\n",
    "    \n",
    "    for node in H.nodes():\n",
    "        start  = begin + timedelta(days=H.node[node]['ES'])\n",
    "        finish = begin + timedelta(days=H.node[node]['EF'])\n",
    "        late   = begin + timedelta(days=H.node[node]['LF'])\n",
    "        \n",
    "        if H.node[node]['Status'] in ('To Do', 'Available'):\n",
    "            if start < date:\n",
    "                H.node[node]['StartDate'] = str(date)\n",
    "        \n",
    "        elif H.node[node]['Status'] in ('In Progress', 'Late'):\n",
    "            if finish < date:\n",
    "                H.node[node]['Actual'] = (date - start).days\n",
    "            if H.node[node]['FinishDate'] is not None:\n",
    "                finish_date = datetime.strptime(H.node[node]['FinishDate'], '%Y-%m-%d').date()\n",
    "                if finish_date < date:\n",
    "                    H.node[node]['FinishDate'] = str(date)\n",
    "            H.node[node]['Status'] = 'Late' if late <= date else 'In Progress'\n",
    "                    \n",
    "        elif H.node[node]['Status'] == 'Completed':\n",
    "            if finish > date:\n",
    "                H.node[node]['Actual'] = max((date - start).days, 0)\n",
    "                \n",
    "    init_graph(H)\n",
    "    return H\n",
    "\n",
    "\n",
    "def change_status(H, activity, status, replace=False):\n",
    "    \"\"\"\n",
    "    Change the status of a task to 'To Do', 'Available',\n",
    "    'In Progress', 'Late' or 'Completed'\n",
    "    \"\"\"\n",
    "    if status != 'To Do':\n",
    "        # If we're changing the status of a task\n",
    "        # to anything other than 'To Do', then we\n",
    "        # need to check its ancestor activities.\n",
    "        for node in nx.ancestors(H, activity):\n",
    "            if replace:\n",
    "                # If the 'replace' flag is set to True\n",
    "                # then we're going to assume that all\n",
    "                # the ancestor activities are completed.\n",
    "                H.node[node]['Status'] = 'Completed'\n",
    "            elif H.node[node]['Status'] != 'Completed':\n",
    "                # Otherwise, we're going to raise a warning\n",
    "                # that something is wrong with the dependency\n",
    "                # network.\n",
    "                raise ValueError('\\'{0}\\' is not completed'.format(node))\n",
    "    \n",
    "    if status != 'Completed':\n",
    "        # If we're changing the status of a task\n",
    "        # to anything other than 'Completed', then\n",
    "        # we need to check its descendant activities.\n",
    "        for node in nx.descendants(H, activity):\n",
    "            if replace:\n",
    "                # If the 'replace' flag is set to True\n",
    "                # then we're going to assume that all\n",
    "                # the descendant activities have not\n",
    "                # been started.\n",
    "                H.node[node]['Status'] = 'To Do'\n",
    "            elif H.node[node]['Status'] not in ('To Do', 'Available'):\n",
    "                # Otherwise, we're going to raise a warning\n",
    "                # that something is wrong with the dependency\n",
    "                # network.\n",
    "                raise ValueError('\\'{0}\\' has been started'.format(node))\n",
    "    \n",
    "    # After all the ancestor and descendant activities\n",
    "    # have been checked, update the status of this activity\n",
    "    H.node[activity]['Status'] = status\n",
    "    \n",
    "    # After updating the status, the available tasks\n",
    "    # are going to change. Check if any task has become\n",
    "    # available or vice versa.\n",
    "    available = available_tasks(H)\n",
    "    for node in H.nodes():\n",
    "        if node in available:\n",
    "            H.node[node]['Status'] = 'Available'\n",
    "        elif H.node[node]['Status'] == 'Available':\n",
    "            H.node[node]['Status'] = 'To Do'\n",
    "    \n",
    "    return H\n",
    "\n",
    "\n",
    "def available_tasks(H):\n",
    "    \"\"\"\n",
    "    This function returns a list of available tasks.\n",
    "    An available task is a task whose requirements\n",
    "    are already completed but has not been started.\n",
    "    \"\"\"\n",
    "    tasks = []\n",
    "    for node in H.nodes():\n",
    "        \n",
    "        # An available task has not been started.\n",
    "        # Thus, it cannot be 'In Progress', 'Late'\n",
    "        # or 'Completed'\n",
    "        if H.node[node]['Status'] not in ('In Progress', 'Late', 'Completed'):\n",
    "            predecessors = list(H.predecessors(node))\n",
    "            \n",
    "            # A task is available if it doesn't have\n",
    "            # any predecessors or all of its predecessors\n",
    "            # are completed.\n",
    "            if not predecessors or all(H.node[n]['Status'] == 'Completed' for n in predecessors):\n",
    "                tasks.append(node)\n",
    "    return tasks\n",
    "\n",
    "\n",
    "def cluster(H, objectives, completed=[]):\n",
    "    \"\"\"\n",
    "    This function groups tasks based on whether the task is a requirement\n",
    "    for which objective. This is useful for assigning objectives to teams\n",
    "    and finding out which of the requirements overlap.\n",
    "    \"\"\"\n",
    "    # First we're going to reset the groups\n",
    "    for node in H.nodes():\n",
    "        H.node[node]['Cluster'] = 'None'\n",
    "\n",
    "    # We're going to group the tasks based on\n",
    "    # which objective they satisfy. If a task\n",
    "    # already satisfies another objective, then\n",
    "    # it is a requirement for more than one\n",
    "    # objective.\n",
    "    for i in range(len(objectives)):\n",
    "        nodes = list(nx.ancestors(H, objectives[i])) + [objectives[i]]\n",
    "        for node in nodes:\n",
    "            if H.node[node]['Cluster'] == 'None':\n",
    "                H.node[node]['Cluster'] = 'Group {0}'.format(i + 1)\n",
    "            else:\n",
    "                H.node[node]['Cluster'] += ', {0}'.format(i + 1)\n",
    "                \n",
    "    # If a task is completed then we assume all\n",
    "    # of its ancestor tasks are completed. If\n",
    "    # that is not the case then there's something\n",
    "    # wrong with the dependency network\n",
    "    for task in completed:\n",
    "        nodes = list(nx.ancestors(H, task)) + [task]\n",
    "        for node in nodes:\n",
    "            H.node[node]['Cluster'] = 'Completed'\n",
    "                    \n",
    "    return H\n",
    "\n",
    "\n",
    "def conflict_graph(H):\n",
    "    I = nx.Graph()\n",
    "    I.add_nodes_from(H.nodes())\n",
    "\n",
    "    for node1 in I.nodes():\n",
    "        for node2 in I.nodes():\n",
    "            if node1 != node2:\n",
    "                if H.node[node1]['ES'] < H.node[node2]['EF'] and\\\n",
    "                   H.node[node1]['EF'] > H.node[node2]['ES']:\n",
    "                    I.add_edge(node1, node2)\n",
    "    return I\n",
    "\n",
    "\n",
    "def greedy_assignment(H, assignments, strategy='largest_first'):\n",
    "    I = conflict_graph(H)\n",
    "    d = nx.coloring.greedy_color(I, strategy=strategy)\n",
    "    for node, idx in d.items():\n",
    "        H.node[node]['Assignment'] = assignments[idx]\n",
    "    H.node['Start']['Assignment'] = 'None'\n",
    "    H.node['Finish']['Assignment'] = 'None'\n",
    "    return H\n",
    "\n",
    "\n",
    "def equitable_assignment(H, assignments):\n",
    "    I = conflict_graph(H)\n",
    "    d = nx.coloring.equitable_color(I, num_colors=len(assignments))\n",
    "    for node, idx in d.items():\n",
    "        H.node[node]['Assignment'] = assignments[idx]\n",
    "    H.node['Start']['Assignment'] = 'None'\n",
    "    H.node['Finish']['Assignment'] = 'None'\n",
    "    return H\n",
    "\n",
    "def constraint(G, max_overlap):\n",
    "    H = create_subgraph(G)\n",
    "    \n",
    "    t = 0.5\n",
    "    duration = max(H.node[x]['EF'] for x in H.nodes())\n",
    "    while t < duration:\n",
    "        overlapping_tasks = [node for node in H.nodes() if H.node[node]['ES'] < t if H.node[node]['EF'] > t]\n",
    "        if len(overlapping_tasks) > max_overlap:\n",
    "            overlapping_tasks.sort(key=lambda x: H.node[x]['EF'])\n",
    "            for i in range(len(overlapping_tasks) - max_overlap):\n",
    "                H.add_edge(overlapping_tasks[0], overlapping_tasks[-(i+1)])\n",
    "            init_graph(H)\n",
    "            duration = max(H.node[x]['EF'] for x in H.nodes())\n",
    "        t += 0.5\n",
    "    return H\n",
    "    \n",
    "if __name__ == '__main__':\n",
    "    \n",
    "    activities, edges = read_files('data/activity_list.csv', 'data/edge_list.csv', id=[True, True])\n",
    "    G = parse_graph(activities, edges)\n",
    "    \n",
    "    H = PERT(G, begin='2019-07-14', deadline='2019-08-5')\n",
    "    display_graph(H)\n",
    "    \n",
    "    colors = {'normal': 'rgb(255, 102, 255)',\n",
    "              'critical': 'rgb(255, 0, 0)',\n",
    "              'slack': 'rgb(255, 204, 255)'}\n",
    "    display_gantt_chart(H, colors=colors, index_col='Type', show_colorbar=True)"
   ]
  },
  {
   "cell_type": "code",
   "execution_count": 18,
   "metadata": {},
   "outputs": [
    {
     "data": {
      "application/vnd.jupyter.widget-view+json": {
       "model_id": "aaa2870c291048adac3819de1480c005",
       "version_major": 2,
       "version_minor": 0
      },
      "text/plain": [
       "FigureWidget({\n",
       "    'data': [{'marker': {'color': 'white'},\n",
       "              'name': '',\n",
       "              'showlegend…"
      ]
     },
     "metadata": {},
     "output_type": "display_data"
    }
   ],
   "source": [
    "H.node['C']['StartDate'] = '2019-07-21'\n",
    "init_graph(H)\n",
    "display_gantt_chart(H, colors=colors, index_col='Type', show_colorbar=True)"
   ]
  },
  {
   "cell_type": "code",
   "execution_count": 19,
   "metadata": {},
   "outputs": [
    {
     "data": {
      "application/vnd.jupyter.widget-view+json": {
       "model_id": "e5d1265c87234fbcaa567dd2a947e453",
       "version_major": 2,
       "version_minor": 0
      },
      "text/plain": [
       "FigureWidget({\n",
       "    'data': [{'marker': {'color': 'white'},\n",
       "              'name': '',\n",
       "              'showlegend…"
      ]
     },
     "metadata": {},
     "output_type": "display_data"
    }
   ],
   "source": [
    "H.node['C']['FinishDate'] = '2019-07-24'\n",
    "init_graph(H)\n",
    "display_gantt_chart(H, colors=colors, index_col='Type', show_colorbar=True)"
   ]
  },
  {
   "cell_type": "code",
   "execution_count": 20,
   "metadata": {},
   "outputs": [
    {
     "data": {
      "application/vnd.jupyter.widget-view+json": {
       "model_id": "52879decb64e4645a4e7f3400ddd54d7",
       "version_major": 2,
       "version_minor": 0
      },
      "text/plain": [
       "FigureWidget({\n",
       "    'data': [{'marker': {'color': 'white'},\n",
       "              'name': '',\n",
       "              'showlegend…"
      ]
     },
     "metadata": {},
     "output_type": "display_data"
    }
   ],
   "source": [
    "H.node['D']['FinishDate'] = '2019-07-27'\n",
    "init_graph(H)\n",
    "display_gantt_chart(H, colors=colors, index_col='Type', show_colorbar=True)"
   ]
  },
  {
   "cell_type": "code",
   "execution_count": 21,
   "metadata": {},
   "outputs": [
    {
     "data": {
      "application/vnd.jupyter.widget-view+json": {
       "model_id": "b4bdbcec060c46d3a62428e7737c3b63",
       "version_major": 2,
       "version_minor": 0
      },
      "text/plain": [
       "FigureWidget({\n",
       "    'data': [{'marker': {'color': 'white'},\n",
       "              'name': '',\n",
       "              'showlegend…"
      ]
     },
     "metadata": {},
     "output_type": "display_data"
    }
   ],
   "source": [
    "H.graph['Begin'] = '2019-07-10'\n",
    "init_graph(H)\n",
    "display_gantt_chart(H, colors=colors, index_col='Type', show_colorbar=True)"
   ]
  },
  {
   "cell_type": "code",
   "execution_count": 22,
   "metadata": {},
   "outputs": [
    {
     "data": {
      "application/vnd.jupyter.widget-view+json": {
       "model_id": "a4759798dcd14cb28af9846ac755efe5",
       "version_major": 2,
       "version_minor": 0
      },
      "text/plain": [
       "FigureWidget({\n",
       "    'data': [{'marker': {'color': 'white'},\n",
       "              'name': '',\n",
       "              'showlegend…"
      ]
     },
     "metadata": {},
     "output_type": "display_data"
    }
   ],
   "source": [
    "H.graph['Deadline'] = '2019-08-02'\n",
    "init_graph(H)\n",
    "display_gantt_chart(H, colors=colors, index_col='Type', show_colorbar=True)"
   ]
  },
  {
   "cell_type": "code",
   "execution_count": 23,
   "metadata": {},
   "outputs": [
    {
     "data": {
      "application/vnd.jupyter.widget-view+json": {
       "model_id": "ceae1985948040ed8e02babc80ff6947",
       "version_major": 2,
       "version_minor": 0
      },
      "text/plain": [
       "FigureWidget({\n",
       "    'data': [{'marker': {'color': 'white'},\n",
       "              'name': '',\n",
       "              'showlegend…"
      ]
     },
     "metadata": {},
     "output_type": "display_data"
    }
   ],
   "source": [
    "reset(H)\n",
    "display_gantt_chart(H, colors=colors, index_col='Type', show_colorbar=True)"
   ]
  },
  {
   "cell_type": "code",
   "execution_count": 24,
   "metadata": {},
   "outputs": [
    {
     "data": {
      "application/vnd.jupyter.widget-view+json": {
       "model_id": "da955b18efbb4444b0f9e4a07bec063b",
       "version_major": 2,
       "version_minor": 0
      },
      "text/plain": [
       "FigureWidget({\n",
       "    'data': [{'marker': {'color': 'white'},\n",
       "              'name': '',\n",
       "              'showlegend…"
      ]
     },
     "metadata": {},
     "output_type": "display_data"
    }
   ],
   "source": [
    "colors = {'To Do':       'rgb(0, 0, 0)',\n",
    "          'Available':   'rgb(144, 238, 144)',\n",
    "          'In Progress': 'rgb(255, 255, 0)',\n",
    "          'Completed':   'rgb(255, 102, 255)',\n",
    "          'Late':        'rgb(255, 0, 0)',\n",
    "          'slack':       'rgb(255, 204, 255)'}\n",
    "\n",
    "display_gantt_chart(H, colors=colors, index_col='Status', show_colorbar=True)"
   ]
  },
  {
   "cell_type": "code",
   "execution_count": 25,
   "metadata": {},
   "outputs": [
    {
     "data": {
      "application/vnd.jupyter.widget-view+json": {
       "model_id": "d95ae87507ea4051b23a79ca74f57b3d",
       "version_major": 2,
       "version_minor": 0
      },
      "text/plain": [
       "FigureWidget({\n",
       "    'data': [{'marker': {'color': 'white'},\n",
       "              'name': '',\n",
       "              'showlegend…"
      ]
     },
     "metadata": {},
     "output_type": "display_data"
    }
   ],
   "source": [
    "change_status(H, 'Start', 'Completed')\n",
    "change_status(H, 'A', 'Completed')\n",
    "change_status(H, 'C', 'In Progress')\n",
    "change_status(H, 'D', 'Completed')\n",
    "\n",
    "update_progress(H, date='2019-07-21')\n",
    "display_gantt_chart(H, colors=colors, index_col='Status', show_colorbar=True)"
   ]
  },
  {
   "cell_type": "code",
   "execution_count": 26,
   "metadata": {},
   "outputs": [
    {
     "data": {
      "image/png": "[encoded data removed]",
      "text/plain": [
       "<IPython.core.display.Image object>"
      ]
     },
     "metadata": {},
     "output_type": "display_data"
    }
   ],
   "source": [
    "colors = {'To Do':       {'fillcolor': 'black',\n",
    "                          'fontcolor': 'white'},\n",
    "          'Available':   {'fillcolor': 'green',\n",
    "                          'fontcolor': 'black'},\n",
    "          'In Progress': {'fillcolor': 'yellow',\n",
    "                          'fontcolor': 'black'},\n",
    "          'Completed':   {'fillcolor': 'blue',\n",
    "                          'fontcolor': 'white'},\n",
    "          'Late':        {'fillcolor': 'red',\n",
    "                          'fontcolor': 'white'}}\n",
    "\n",
    "display_graph(H, colors=colors, index_col='Status')"
   ]
  },
  {
   "cell_type": "code",
   "execution_count": 27,
   "metadata": {},
   "outputs": [
    {
     "data": {
      "application/vnd.jupyter.widget-view+json": {
       "model_id": "b991d709f99d44c6b3730d2ec4a4f37c",
       "version_major": 2,
       "version_minor": 0
      },
      "text/plain": [
       "FigureWidget({\n",
       "    'data': [{'marker': {'color': 'white'},\n",
       "              'name': '',\n",
       "              'showlegend…"
      ]
     },
     "metadata": {},
     "output_type": "display_data"
    }
   ],
   "source": [
    "reset(H)\n",
    "cluster(H, objectives=['E', 'D'], completed=['B'])\n",
    "\n",
    "colors = {'Group 1':    'rgb(255, 102, 255)',\n",
    "          'Group 2':    'rgb(255, 255, 0)',\n",
    "          'Group 1, 2': 'rgb(144, 238, 144)',\n",
    "          'None':       'rgb(0, 0, 0)',\n",
    "          'Completed':  'rgb(192, 192, 192)',\n",
    "          'slack':      'rgb(255, 204, 255)'}\n",
    "display_gantt_chart(H, colors=colors, index_col='Cluster', show_colorbar=True)"
   ]
  },
  {
   "cell_type": "code",
   "execution_count": 28,
   "metadata": {},
   "outputs": [
    {
     "data": {
      "image/png": "[encoded data removed]",
      "text/plain": [
       "<IPython.core.display.Image object>"
      ]
     },
     "metadata": {},
     "output_type": "display_data"
    }
   ],
   "source": [
    "colors = {'Group 1':    {'fillcolor': 'blue',\n",
    "                         'fontcolor': 'white'},\n",
    "          'Group 2':    {'fillcolor': 'yellow',\n",
    "                         'fontcolor': 'black'},\n",
    "          'Group 1, 2': {'fillcolor': 'green',\n",
    "                         'fontcolor': 'black'},\n",
    "          'None':       {'fillcolor': 'black',\n",
    "                         'fontcolor': 'white'},\n",
    "          'Completed':  {'fillcolor': 'cyan',\n",
    "                         'fontcolor': 'black'}}\n",
    "\n",
    "display_graph(H, colors=colors, index_col='Cluster')"
   ]
  },
  {
   "cell_type": "code",
   "execution_count": 29,
   "metadata": {},
   "outputs": [
    {
     "data": {
      "image/png": "[encoded data removed]",
      "text/plain": [
       "<IPython.core.display.Image object>"
      ]
     },
     "metadata": {},
     "output_type": "display_data"
    }
   ],
   "source": [
    "I = conflict_graph(H)\n",
    "display_graph(I)"
   ]
  },
  {
   "cell_type": "code",
   "execution_count": 30,
   "metadata": {},
   "outputs": [
    {
     "data": {
      "application/vnd.jupyter.widget-view+json": {
       "model_id": "06db87c98a6d414ab7342aa136c10d9c",
       "version_major": 2,
       "version_minor": 0
      },
      "text/plain": [
       "FigureWidget({\n",
       "    'data': [{'marker': {'color': 'white'},\n",
       "              'name': '',\n",
       "              'showlegend…"
      ]
     },
     "metadata": {},
     "output_type": "display_data"
    }
   ],
   "source": [
    "assignments = ['Marcus', 'Danyelle', 'Nguyen', 'Maria']\n",
    "greedy_assignment(H, assignments=assignments)\n",
    "\n",
    "colors = {'Marcus':   'rgb(255, 165, 0)',\n",
    "          'Nguyen':   'rgb(255, 255, 0)',\n",
    "          'Danyelle': 'rgb(255, 102, 255)',\n",
    "          'Maria':    'rgb(255, 192, 203)',\n",
    "          'None':     'rgb(192, 192, 192)',\n",
    "          'slack':    'rgb(255, 204, 255)'}\n",
    "display_gantt_chart(H, colors=colors, index_col='Assignment', show_colorbar=True)"
   ]
  },
  {
   "cell_type": "code",
   "execution_count": 31,
   "metadata": {},
   "outputs": [
    {
     "data": {
      "application/vnd.jupyter.widget-view+json": {
       "model_id": "c4c5c0f9e7534a14a4d282073cec9066",
       "version_major": 2,
       "version_minor": 0
      },
      "text/plain": [
       "FigureWidget({\n",
       "    'data': [{'marker': {'color': 'white'},\n",
       "              'name': '',\n",
       "              'showlegend…"
      ]
     },
     "metadata": {},
     "output_type": "display_data"
    }
   ],
   "source": [
    "equitable_assignment(H, assignments=assignments)\n",
    "display_gantt_chart(H, colors=colors, index_col='Assignment', show_colorbar=True)"
   ]
  },
  {
   "cell_type": "code",
   "execution_count": 32,
   "metadata": {},
   "outputs": [
    {
     "data": {
      "image/png": "[encoded data removed]",
      "text/plain": [
       "<IPython.core.display.Image object>"
      ]
     },
     "metadata": {},
     "output_type": "display_data"
    },
    {
     "data": {
      "application/vnd.jupyter.widget-view+json": {
       "model_id": "32e6c42c060b43d0babbaadd7e74a631",
       "version_major": 2,
       "version_minor": 0
      },
      "text/plain": [
       "FigureWidget({\n",
       "    'data': [{'marker': {'color': 'white'},\n",
       "              'name': '',\n",
       "              'showlegend…"
      ]
     },
     "metadata": {},
     "output_type": "display_data"
    }
   ],
   "source": [
    "I = constraint(H, max_overlap=1)\n",
    "display_graph(I)\n",
    "\n",
    "colors = {'normal': 'rgb(255, 102, 255)',\n",
    "          'critical': 'rgb(255, 0, 0)',\n",
    "          'slack': 'rgb(255, 204, 255)'}\n",
    "display_gantt_chart(I, colors=colors, index_col='Type', show_colorbar=True)"
   ]
  },
  {
   "cell_type": "code",
   "execution_count": 33,
   "metadata": {},
   "outputs": [
    {
     "data": {
      "application/vnd.jupyter.widget-view+json": {
       "model_id": "4ac3c98877b94df599264ecdec614260",
       "version_major": 2,
       "version_minor": 0
      },
      "text/plain": [
       "FigureWidget({\n",
       "    'data': [{'marker': {'color': 'white'},\n",
       "              'name': '',\n",
       "              'showlegend…"
      ]
     },
     "metadata": {},
     "output_type": "display_data"
    }
   ],
   "source": [
    "assignments = ['Marcus', 'Danyelle', 'Nguyen', 'Maria']\n",
    "greedy_assignment(I, assignments=assignments)\n",
    "\n",
    "colors = {'Marcus':   'rgb(255, 165, 0)',\n",
    "          'Nguyen':   'rgb(255, 255, 0)',\n",
    "          'Danyelle': 'rgb(255, 102, 255)',\n",
    "          'Maria':    'rgb(255, 192, 203)',\n",
    "          'None':     'rgb(192, 192, 192)',\n",
    "          'slack':    'rgb(255, 204, 255)'}\n",
    "display_gantt_chart(I, colors=colors, index_col='Assignment', show_colorbar=True)"
   ]
  },
  {
   "cell_type": "code",
   "execution_count": 34,
   "metadata": {},
   "outputs": [
    {
     "data": {
      "application/vnd.jupyter.widget-view+json": {
       "model_id": "9254bef24e6d4c919c3d41e297b5de25",
       "version_major": 2,
       "version_minor": 0
      },
      "text/plain": [
       "FigureWidget({\n",
       "    'data': [{'marker': {'color': 'white'},\n",
       "              'name': '',\n",
       "              'showlegend…"
      ]
     },
     "metadata": {},
     "output_type": "display_data"
    }
   ],
   "source": [
    "equitable_assignment(I, assignments=assignments)\n",
    "display_gantt_chart(I, colors=colors, index_col='Assignment', show_colorbar=True)"
   ]
  },
  {
   "cell_type": "code",
   "execution_count": null,
   "metadata": {},
   "outputs": [],
   "source": []
  }
 ],
 "metadata": {
  "@webio": {
   "lastCommId": null,
   "lastKernelId": null
  },
  "kernelspec": {
   "display_name": "Python 3",
   "language": "python",
   "name": "python3"
  },
  "language_info": {
   "codemirror_mode": {
    "name": "ipython",
    "version": 3
   },
   "file_extension": ".py",
   "mimetype": "text/x-python",
   "name": "python",
   "nbconvert_exporter": "python",
   "pygments_lexer": "ipython3",
   "version": "3.6.8"
  }
 },
 "nbformat": 4,
 "nbformat_minor": 2
}
