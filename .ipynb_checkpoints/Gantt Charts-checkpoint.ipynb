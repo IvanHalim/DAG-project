{
 "cells": [
  {
   "cell_type": "markdown",
   "metadata": {},
   "source": [
    "# Gantt Charts in Python\n",
    "\n",
    "Gantt Charts use horizontal bars to represent the start and end times of tasks.\n",
    "\n",
    "## Simple Gantt Chart"
   ]
  },
  {
   "cell_type": "code",
   "execution_count": 9,
   "metadata": {},
   "outputs": [
    {
     "data": {
      "application/vnd.jupyter.widget-view+json": {
       "model_id": "7f887d380ce0484085a24df0f1bf41ed",
       "version_major": 2,
       "version_minor": 0
      },
      "text/plain": [
       "FigureWidget({\n",
       "    'data': [{'marker': {'color': 'white'},\n",
       "              'name': '',\n",
       "              'type': 'sc…"
      ]
     },
     "metadata": {},
     "output_type": "display_data"
    }
   ],
   "source": [
    "import plotly.graph_objs as go\n",
    "import plotly.figure_factory as ff\n",
    "\n",
    "df = [dict(Task='Job A', Start='2009-01-01', Finish='2009-02-28'),\n",
    "      dict(Task='Job B', Start='2009-03-05', Finish='2009-04-15'),\n",
    "      dict(Task='Job C', Start='2009-02-20', Finish='2009-05-30')]\n",
    "\n",
    "fig = ff.create_gantt(df)\n",
    "go.FigureWidget(fig)"
   ]
  },
  {
   "cell_type": "markdown",
   "metadata": {},
   "source": [
    "## Index by Numeric Variable"
   ]
  },
  {
   "cell_type": "code",
   "execution_count": 17,
   "metadata": {},
   "outputs": [
    {
     "data": {
      "application/vnd.jupyter.widget-view+json": {
       "model_id": "052782ab0b2e4fe2ac3adb6fbf4f7d1c",
       "version_major": 2,
       "version_minor": 0
      },
      "text/plain": [
       "FigureWidget({\n",
       "    'data': [{'marker': {'color': 'white'},\n",
       "              'name': '',\n",
       "              'type': 'sc…"
      ]
     },
     "metadata": {},
     "output_type": "display_data"
    }
   ],
   "source": [
    "import plotly.graph_objs as go\n",
    "import plotly.figure_factory as ff\n",
    "\n",
    "df = [dict(Task='Job A', Start='2009-01-01', Finish='2009-02-28', Complete=10),\n",
    "      dict(Task='Job B', Start='2009-03-05', Finish='2009-04-15', Complete=60),\n",
    "      dict(Task='Job C', Start='2009-02-20', Finish='2009-05-30', Complete=95)]\n",
    "\n",
    "fig = ff.create_gantt(df, index_col='Complete', show_colorbar=True)\n",
    "go.FigureWidget(fig)"
   ]
  },
  {
   "cell_type": "code",
   "execution_count": null,
   "metadata": {},
   "outputs": [],
   "source": []
  }
 ],
 "metadata": {
  "kernelspec": {
   "display_name": "Python 3",
   "language": "python",
   "name": "python3"
  },
  "language_info": {
   "codemirror_mode": {
    "name": "ipython",
    "version": 3
   },
   "file_extension": ".py",
   "mimetype": "text/x-python",
   "name": "python",
   "nbconvert_exporter": "python",
   "pygments_lexer": "ipython3",
   "version": "3.6.8"
  }
 },
 "nbformat": 4,
 "nbformat_minor": 2
}
