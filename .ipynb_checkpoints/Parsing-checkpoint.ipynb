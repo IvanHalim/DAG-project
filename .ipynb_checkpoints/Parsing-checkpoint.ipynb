{
 "cells": [
  {
   "cell_type": "markdown",
   "metadata": {},
   "source": [
    "# Parsing Table Data into Graphs"
   ]
  },
  {
   "cell_type": "code",
   "execution_count": 1,
   "metadata": {},
   "outputs": [
    {
     "data": {
      "text/html": [
       "<div>\n",
       "<style scoped>\n",
       "    .dataframe tbody tr th:only-of-type {\n",
       "        vertical-align: middle;\n",
       "    }\n",
       "\n",
       "    .dataframe tbody tr th {\n",
       "        vertical-align: top;\n",
       "    }\n",
       "\n",
       "    .dataframe thead th {\n",
       "        text-align: right;\n",
       "    }\n",
       "</style>\n",
       "<table border=\"1\" class=\"dataframe\">\n",
       "  <thead>\n",
       "    <tr style=\"text-align: right;\">\n",
       "      <th></th>\n",
       "      <th>ID</th>\n",
       "      <th>Activity</th>\n",
       "      <th>Optimistic</th>\n",
       "      <th>Normal</th>\n",
       "      <th>Pessimistic</th>\n",
       "    </tr>\n",
       "  </thead>\n",
       "  <tbody>\n",
       "    <tr>\n",
       "      <th>0</th>\n",
       "      <td>1</td>\n",
       "      <td>A</td>\n",
       "      <td>2</td>\n",
       "      <td>4</td>\n",
       "      <td>6</td>\n",
       "    </tr>\n",
       "    <tr>\n",
       "      <th>1</th>\n",
       "      <td>2</td>\n",
       "      <td>B</td>\n",
       "      <td>3</td>\n",
       "      <td>5</td>\n",
       "      <td>9</td>\n",
       "    </tr>\n",
       "    <tr>\n",
       "      <th>2</th>\n",
       "      <td>3</td>\n",
       "      <td>C</td>\n",
       "      <td>4</td>\n",
       "      <td>5</td>\n",
       "      <td>7</td>\n",
       "    </tr>\n",
       "    <tr>\n",
       "      <th>3</th>\n",
       "      <td>4</td>\n",
       "      <td>D</td>\n",
       "      <td>4</td>\n",
       "      <td>6</td>\n",
       "      <td>10</td>\n",
       "    </tr>\n",
       "    <tr>\n",
       "      <th>4</th>\n",
       "      <td>5</td>\n",
       "      <td>E</td>\n",
       "      <td>4</td>\n",
       "      <td>5</td>\n",
       "      <td>7</td>\n",
       "    </tr>\n",
       "  </tbody>\n",
       "</table>\n",
       "</div>"
      ],
      "text/plain": [
       "   ID Activity  Optimistic  Normal  Pessimistic\n",
       "0   1        A           2       4            6\n",
       "1   2        B           3       5            9\n",
       "2   3        C           4       5            7\n",
       "3   4        D           4       6           10\n",
       "4   5        E           4       5            7"
      ]
     },
     "execution_count": 1,
     "metadata": {},
     "output_type": "execute_result"
    }
   ],
   "source": [
    "import pandas as pd\n",
    "\n",
    "df1 = pd.read_csv('data/activity_list.csv')\n",
    "df1.head()"
   ]
  },
  {
   "cell_type": "code",
   "execution_count": 2,
   "metadata": {},
   "outputs": [
    {
     "data": {
      "text/html": [
       "<div>\n",
       "<style scoped>\n",
       "    .dataframe tbody tr th:only-of-type {\n",
       "        vertical-align: middle;\n",
       "    }\n",
       "\n",
       "    .dataframe tbody tr th {\n",
       "        vertical-align: top;\n",
       "    }\n",
       "\n",
       "    .dataframe thead th {\n",
       "        text-align: right;\n",
       "    }\n",
       "</style>\n",
       "<table border=\"1\" class=\"dataframe\">\n",
       "  <thead>\n",
       "    <tr style=\"text-align: right;\">\n",
       "      <th></th>\n",
       "      <th>ID</th>\n",
       "      <th>Activity</th>\n",
       "      <th>Optimistic</th>\n",
       "      <th>Normal</th>\n",
       "      <th>Pessimistic</th>\n",
       "      <th>Expected</th>\n",
       "    </tr>\n",
       "  </thead>\n",
       "  <tbody>\n",
       "    <tr>\n",
       "      <th>0</th>\n",
       "      <td>1</td>\n",
       "      <td>A</td>\n",
       "      <td>2</td>\n",
       "      <td>4</td>\n",
       "      <td>6</td>\n",
       "      <td>4.000000</td>\n",
       "    </tr>\n",
       "    <tr>\n",
       "      <th>1</th>\n",
       "      <td>2</td>\n",
       "      <td>B</td>\n",
       "      <td>3</td>\n",
       "      <td>5</td>\n",
       "      <td>9</td>\n",
       "      <td>5.333333</td>\n",
       "    </tr>\n",
       "    <tr>\n",
       "      <th>2</th>\n",
       "      <td>3</td>\n",
       "      <td>C</td>\n",
       "      <td>4</td>\n",
       "      <td>5</td>\n",
       "      <td>7</td>\n",
       "      <td>5.166667</td>\n",
       "    </tr>\n",
       "    <tr>\n",
       "      <th>3</th>\n",
       "      <td>4</td>\n",
       "      <td>D</td>\n",
       "      <td>4</td>\n",
       "      <td>6</td>\n",
       "      <td>10</td>\n",
       "      <td>6.333333</td>\n",
       "    </tr>\n",
       "    <tr>\n",
       "      <th>4</th>\n",
       "      <td>5</td>\n",
       "      <td>E</td>\n",
       "      <td>4</td>\n",
       "      <td>5</td>\n",
       "      <td>7</td>\n",
       "      <td>5.166667</td>\n",
       "    </tr>\n",
       "  </tbody>\n",
       "</table>\n",
       "</div>"
      ],
      "text/plain": [
       "   ID Activity  Optimistic  Normal  Pessimistic  Expected\n",
       "0   1        A           2       4            6  4.000000\n",
       "1   2        B           3       5            9  5.333333\n",
       "2   3        C           4       5            7  5.166667\n",
       "3   4        D           4       6           10  6.333333\n",
       "4   5        E           4       5            7  5.166667"
      ]
     },
     "execution_count": 2,
     "metadata": {},
     "output_type": "execute_result"
    }
   ],
   "source": [
    "df1['Expected'] = (df1['Optimistic'] + 4*df1['Normal'] + df1['Pessimistic']) / 6.0\n",
    "df1.head()"
   ]
  },
  {
   "cell_type": "code",
   "execution_count": 3,
   "metadata": {},
   "outputs": [
    {
     "data": {
      "text/html": [
       "<div>\n",
       "<style scoped>\n",
       "    .dataframe tbody tr th:only-of-type {\n",
       "        vertical-align: middle;\n",
       "    }\n",
       "\n",
       "    .dataframe tbody tr th {\n",
       "        vertical-align: top;\n",
       "    }\n",
       "\n",
       "    .dataframe thead th {\n",
       "        text-align: right;\n",
       "    }\n",
       "</style>\n",
       "<table border=\"1\" class=\"dataframe\">\n",
       "  <thead>\n",
       "    <tr style=\"text-align: right;\">\n",
       "      <th></th>\n",
       "      <th>ID</th>\n",
       "      <th>Parent</th>\n",
       "      <th>Child</th>\n",
       "    </tr>\n",
       "  </thead>\n",
       "  <tbody>\n",
       "    <tr>\n",
       "      <th>0</th>\n",
       "      <td>1</td>\n",
       "      <td>1</td>\n",
       "      <td>3</td>\n",
       "    </tr>\n",
       "    <tr>\n",
       "      <th>1</th>\n",
       "      <td>2</td>\n",
       "      <td>1</td>\n",
       "      <td>4</td>\n",
       "    </tr>\n",
       "    <tr>\n",
       "      <th>2</th>\n",
       "      <td>3</td>\n",
       "      <td>2</td>\n",
       "      <td>5</td>\n",
       "    </tr>\n",
       "    <tr>\n",
       "      <th>3</th>\n",
       "      <td>4</td>\n",
       "      <td>3</td>\n",
       "      <td>5</td>\n",
       "    </tr>\n",
       "    <tr>\n",
       "      <th>4</th>\n",
       "      <td>5</td>\n",
       "      <td>4</td>\n",
       "      <td>6</td>\n",
       "    </tr>\n",
       "  </tbody>\n",
       "</table>\n",
       "</div>"
      ],
      "text/plain": [
       "   ID  Parent  Child\n",
       "0   1       1      3\n",
       "1   2       1      4\n",
       "2   3       2      5\n",
       "3   4       3      5\n",
       "4   5       4      6"
      ]
     },
     "execution_count": 3,
     "metadata": {},
     "output_type": "execute_result"
    }
   ],
   "source": [
    "df2 = pd.read_csv('data/edge_list.csv')\n",
    "df2.head()"
   ]
  },
  {
   "cell_type": "code",
   "execution_count": 4,
   "metadata": {},
   "outputs": [
    {
     "data": {
      "text/plain": [
       "{'A': {'Optimistic': 2, 'Normal': 4, 'Pessimistic': 6, 'Expected': 4.0},\n",
       " 'B': {'Optimistic': 3,\n",
       "  'Normal': 5,\n",
       "  'Pessimistic': 9,\n",
       "  'Expected': 5.333333333333333},\n",
       " 'C': {'Optimistic': 4,\n",
       "  'Normal': 5,\n",
       "  'Pessimistic': 7,\n",
       "  'Expected': 5.166666666666667},\n",
       " 'D': {'Optimistic': 4,\n",
       "  'Normal': 6,\n",
       "  'Pessimistic': 10,\n",
       "  'Expected': 6.333333333333333},\n",
       " 'E': {'Optimistic': 4,\n",
       "  'Normal': 5,\n",
       "  'Pessimistic': 7,\n",
       "  'Expected': 5.166666666666667},\n",
       " 'F': {'Optimistic': 3, 'Normal': 4, 'Pessimistic': 8, 'Expected': 4.5},\n",
       " 'G': {'Optimistic': 3,\n",
       "  'Normal': 5,\n",
       "  'Pessimistic': 8,\n",
       "  'Expected': 5.166666666666667}}"
      ]
     },
     "execution_count": 4,
     "metadata": {},
     "output_type": "execute_result"
    }
   ],
   "source": [
    "import networkx as nx\n",
    "\n",
    "G = nx.DiGraph()\n",
    "\n",
    "for index, row in df1.iterrows():\n",
    "    G.add_node(row['Activity'])\n",
    "    G.node[row['Activity']]['Optimistic'] = row['Optimistic']\n",
    "    G.node[row['Activity']]['Normal'] = row['Normal']\n",
    "    G.node[row['Activity']]['Pessimistic'] = row['Pessimistic']\n",
    "    G.node[row['Activity']]['Expected'] = row['Expected']\n",
    "    \n",
    "dict(G.nodes(data=True))"
   ]
  },
  {
   "cell_type": "code",
   "execution_count": 5,
   "metadata": {},
   "outputs": [
    {
     "data": {
      "text/plain": [
       "OutEdgeView([('A', 'C'), ('A', 'D'), ('B', 'E'), ('C', 'E'), ('D', 'F'), ('E', 'G')])"
      ]
     },
     "execution_count": 5,
     "metadata": {},
     "output_type": "execute_result"
    }
   ],
   "source": [
    "for index, row in df2.iterrows():\n",
    "    u = df1.at[row['Parent']-1, 'Activity']\n",
    "    v = df1.at[row['Child']-1, 'Activity']\n",
    "    G.add_edge(u, v)\n",
    "    \n",
    "G.edges()"
   ]
  },
  {
   "cell_type": "code",
   "execution_count": 6,
   "metadata": {},
   "outputs": [],
   "source": [
    "import networkx.drawing.nx_pydot as pdt\n",
    "\n",
    "A = pdt.to_pydot(G)\n",
    "\n",
    "for i, node in enumerate(A.get_nodes()):\n",
    "    node.set_shape('circle')\n",
    "    node.set_style('filled')\n",
    "    node.set_fontcolor('#FFFFFF')"
   ]
  },
  {
   "cell_type": "code",
   "execution_count": 7,
   "metadata": {},
   "outputs": [
    {
     "data": {
      "image/png": "[encoded data removed]",
      "text/plain": [
       "<IPython.core.display.Image object>"
      ]
     },
     "metadata": {},
     "output_type": "display_data"
    }
   ],
   "source": [
    "from IPython.display import Image, display\n",
    "\n",
    "def view_pydot(pdot):\n",
    "    plt = Image(pdot.create_png())\n",
    "    display(plt)\n",
    "\n",
    "view_pydot(A)"
   ]
  },
  {
   "cell_type": "code",
   "execution_count": 8,
   "metadata": {},
   "outputs": [
    {
     "data": {
      "text/plain": [
       "{'A': {'Optimistic': 2,\n",
       "  'Normal': 4,\n",
       "  'Pessimistic': 6,\n",
       "  'Expected': 4.0,\n",
       "  'Early Start': 0,\n",
       "  'Early Finish': 4.0},\n",
       " 'B': {'Optimistic': 3,\n",
       "  'Normal': 5,\n",
       "  'Pessimistic': 9,\n",
       "  'Expected': 5.333333333333333,\n",
       "  'Early Start': 0,\n",
       "  'Early Finish': 5.333333333333333},\n",
       " 'C': {'Optimistic': 4,\n",
       "  'Normal': 5,\n",
       "  'Pessimistic': 7,\n",
       "  'Expected': 5.166666666666667,\n",
       "  'Early Start': 4.0,\n",
       "  'Early Finish': 9.166666666666668},\n",
       " 'D': {'Optimistic': 4,\n",
       "  'Normal': 6,\n",
       "  'Pessimistic': 10,\n",
       "  'Expected': 6.333333333333333,\n",
       "  'Early Start': 4.0,\n",
       "  'Early Finish': 10.333333333333332},\n",
       " 'E': {'Optimistic': 4,\n",
       "  'Normal': 5,\n",
       "  'Pessimistic': 7,\n",
       "  'Expected': 5.166666666666667,\n",
       "  'Early Start': 9.166666666666668,\n",
       "  'Early Finish': 14.333333333333336},\n",
       " 'F': {'Optimistic': 3,\n",
       "  'Normal': 4,\n",
       "  'Pessimistic': 8,\n",
       "  'Expected': 4.5,\n",
       "  'Early Start': 10.333333333333332,\n",
       "  'Early Finish': 14.833333333333332},\n",
       " 'G': {'Optimistic': 3,\n",
       "  'Normal': 5,\n",
       "  'Pessimistic': 8,\n",
       "  'Expected': 5.166666666666667,\n",
       "  'Early Start': 14.333333333333336,\n",
       "  'Early Finish': 19.500000000000004}}"
      ]
     },
     "execution_count": 8,
     "metadata": {},
     "output_type": "execute_result"
    }
   ],
   "source": [
    "for node in nx.topological_sort(G):\n",
    "    parents = list(G.predecessors(node))\n",
    "    if not parents:\n",
    "        G.node[node]['Early Start'] = 0\n",
    "    else:\n",
    "        parent = max(parents, key=lambda x: G.node[x]['Early Finish'])\n",
    "        G.node[node]['Early Start'] = G.node[parent]['Early Finish']\n",
    "    G.node[node]['Early Finish'] = G.node[node]['Early Start'] + G.node[node]['Expected']\n",
    "    \n",
    "dict(G.nodes(data=True))    "
   ]
  },
  {
   "cell_type": "code",
   "execution_count": null,
   "metadata": {},
   "outputs": [],
   "source": []
  }
 ],
 "metadata": {
  "@webio": {
   "lastCommId": null,
   "lastKernelId": null
  },
  "kernelspec": {
   "display_name": "Python 3",
   "language": "python",
   "name": "python3"
  },
  "language_info": {
   "codemirror_mode": {
    "name": "ipython",
    "version": 3
   },
   "file_extension": ".py",
   "mimetype": "text/x-python",
   "name": "python",
   "nbconvert_exporter": "python",
   "pygments_lexer": "ipython3",
   "version": "3.6.8"
  }
 },
 "nbformat": 4,
 "nbformat_minor": 2
}
